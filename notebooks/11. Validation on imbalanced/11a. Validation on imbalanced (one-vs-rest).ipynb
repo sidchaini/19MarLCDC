{
 "cells": [
  {
   "cell_type": "code",
   "execution_count": 1,
   "id": "84ac8986-bb3c-4fae-896e-fd5f0893141d",
   "metadata": {
    "execution": {
     "iopub.execute_input": "2024-03-05T20:01:25.648272Z",
     "iopub.status.busy": "2024-03-05T20:01:25.647038Z",
     "iopub.status.idle": "2024-03-05T20:01:26.916805Z",
     "shell.execute_reply": "2024-03-05T20:01:26.916497Z",
     "shell.execute_reply.started": "2024-03-05T20:01:25.647943Z"
    }
   },
   "outputs": [],
   "source": [
    "import numpy as np\n",
    "import pandas as pd\n",
    "from tqdm.auto import tqdm\n",
    "import matplotlib.pyplot as plt\n",
    "import seaborn as sns\n",
    "from mlxtend.feature_selection import (\n",
    "    SequentialFeatureSelector,\n",
    ")\n",
    "from mlxtend.evaluate import feature_importance_permutation\n",
    "from mlxtend.plotting import plot_sequential_feature_selection as plot_sfs\n",
    "from sklearn.utils.estimator_checks import check_estimator\n",
    "from sklearn.ensemble import RandomForestClassifier\n",
    "from sklearn.model_selection import cross_val_predict, train_test_split\n",
    "from sklearn.metrics import accuracy_score, f1_score, matthews_corrcoef\n",
    "import matplotlib.ticker as ticker\n",
    "import os\n",
    "\n",
    "os.chdir(\"../../\")\n",
    "from pathlib import Path\n",
    "import json\n",
    "\n",
    "import sys\n",
    "\n",
    "sys.path.append(\"scripts\")\n",
    "\n",
    "import utils\n",
    "import distclassipy as dcpy\n",
    "\n",
    "cd = dcpy.Distance()"
   ]
  },
  {
   "cell_type": "code",
   "execution_count": 2,
   "id": "0d5fbcff-7500-46f8-8024-f504a71889f6",
   "metadata": {
    "execution": {
     "iopub.execute_input": "2024-03-05T20:01:26.917529Z",
     "iopub.status.busy": "2024-03-05T20:01:26.917376Z",
     "iopub.status.idle": "2024-03-05T20:01:26.921245Z",
     "shell.execute_reply": "2024-03-05T20:01:26.920440Z",
     "shell.execute_reply.started": "2024-03-05T20:01:26.917519Z"
    }
   },
   "outputs": [],
   "source": [
    "with open(\"settings.txt\") as f:\n",
    "    settings_dict = json.load(f)\n",
    "np.random.seed(settings_dict[\"seed_choice\"])\n",
    "\n",
    "classification_letter = \"a\"\n",
    "classification_problem = settings_dict[\"classification_problem\"][classification_letter]\n",
    "classes_to_keep = settings_dict[\"classes_to_keep\"][classification_letter]\n",
    "results_subfolder = f\"{classification_letter}. {classification_problem}\"\n",
    "sns_dict = settings_dict[\"sns_dict\"]\n",
    "\n",
    "sns.set_theme(**sns_dict)"
   ]
  },
  {
   "cell_type": "code",
   "execution_count": 3,
   "id": "a1af4d03-9705-4f19-8fad-52eba4b04a83",
   "metadata": {
    "execution": {
     "iopub.execute_input": "2024-03-05T20:01:26.922574Z",
     "iopub.status.busy": "2024-03-05T20:01:26.922055Z",
     "iopub.status.idle": "2024-03-05T20:01:26.994192Z",
     "shell.execute_reply": "2024-03-05T20:01:26.993908Z",
     "shell.execute_reply.started": "2024-03-05T20:01:26.922453Z"
    }
   },
   "outputs": [],
   "source": [
    "# Load Data\n",
    "X_df_FULL = pd.read_csv(\"data/X_df.csv\", index_col=0)\n",
    "y_df_FULL = pd.read_csv(\"data/y_df.csv\", index_col=0)"
   ]
  },
  {
   "cell_type": "code",
   "execution_count": 4,
   "id": "553ee405-1271-466b-91fc-f9e5653eca55",
   "metadata": {
    "execution": {
     "iopub.execute_input": "2024-03-05T20:01:26.994740Z",
     "iopub.status.busy": "2024-03-05T20:01:26.994654Z",
     "iopub.status.idle": "2024-03-05T20:01:27.001319Z",
     "shell.execute_reply": "2024-03-05T20:01:27.000546Z",
     "shell.execute_reply.started": "2024-03-05T20:01:26.994730Z"
    }
   },
   "outputs": [
    {
     "name": "stdout",
     "output_type": "stream",
     "text": [
      "30\n"
     ]
    }
   ],
   "source": [
    "# Remove features to be dropped from previous notebook\n",
    "with open(os.path.join(\"results\", results_subfolder, \"drop_features.txt\")) as f:\n",
    "    bad_features = json.load(f)  # manually selected\n",
    "\n",
    "X_df_FULL = X_df_FULL.drop(bad_features, axis=1)\n",
    "\n",
    "print(X_df_FULL.shape[1])"
   ]
  },
  {
   "cell_type": "code",
   "execution_count": 5,
   "id": "6ad41990-3da2-4b3c-b887-2147985a55a0",
   "metadata": {
    "execution": {
     "iopub.execute_input": "2024-03-05T20:01:27.004218Z",
     "iopub.status.busy": "2024-03-05T20:01:27.004045Z",
     "iopub.status.idle": "2024-03-05T20:01:27.019067Z",
     "shell.execute_reply": "2024-03-05T20:01:27.017742Z",
     "shell.execute_reply.started": "2024-03-05T20:01:27.004206Z"
    }
   },
   "outputs": [],
   "source": [
    "# one-vs-rest special\n",
    "posclass_df = y_df_FULL[y_df_FULL[\"class\"].isin(classes_to_keep)]\n",
    "negclass_df = y_df_FULL[~y_df_FULL[\"class\"].isin(classes_to_keep)].sample(\n",
    "    n=len(posclass_df), random_state=settings_dict[\"seed_choice\"]\n",
    ")\n",
    "\n",
    "# negclass_df[\"class\"].value_counts()\n",
    "negclass_df[\"class\"] = f\"Not{classes_to_keep[0]}\"\n",
    "\n",
    "y_df = pd.concat([posclass_df, negclass_df]).sample(\n",
    "    frac=1, random_state=settings_dict[\"seed_choice\"]\n",
    ")  # Shuffle\n",
    "X_df = X_df_FULL.loc[y_df.index]\n",
    "X = X_df.to_numpy()\n",
    "y = y_df.to_numpy().ravel()"
   ]
  },
  {
   "cell_type": "code",
   "execution_count": 6,
   "id": "595e402f-9046-480b-b2f9-808943608688",
   "metadata": {
    "execution": {
     "iopub.execute_input": "2024-03-05T20:01:27.021117Z",
     "iopub.status.busy": "2024-03-05T20:01:27.020947Z",
     "iopub.status.idle": "2024-03-05T20:01:27.028408Z",
     "shell.execute_reply": "2024-03-05T20:01:27.026817Z",
     "shell.execute_reply.started": "2024-03-05T20:01:27.021099Z"
    },
    "tags": []
   },
   "outputs": [],
   "source": [
    "with open(os.path.join(\"results\", results_subfolder, \"best_common_features.txt\")) as f:\n",
    "    best_common_features = json.load(f)"
   ]
  },
  {
   "cell_type": "code",
   "execution_count": 7,
   "id": "0f54487d-597a-4efa-953b-60dfc4db4677",
   "metadata": {
    "execution": {
     "iopub.execute_input": "2024-03-05T20:01:28.907798Z",
     "iopub.status.busy": "2024-03-05T20:01:28.907036Z",
     "iopub.status.idle": "2024-03-05T20:01:28.916076Z",
     "shell.execute_reply": "2024-03-05T20:01:28.914653Z",
     "shell.execute_reply.started": "2024-03-05T20:01:28.907754Z"
    },
    "tags": []
   },
   "outputs": [],
   "source": [
    "all_metrics = [\"euclidean\", \"jaccard\", \"kulczynski\"]  # best metric"
   ]
  },
  {
   "cell_type": "code",
   "execution_count": 8,
   "id": "16e1b9ad-48af-48ea-9683-e12eb915372e",
   "metadata": {
    "execution": {
     "iopub.execute_input": "2024-03-05T20:01:29.280516Z",
     "iopub.status.busy": "2024-03-05T20:01:29.279854Z",
     "iopub.status.idle": "2024-03-05T20:01:29.287574Z",
     "shell.execute_reply": "2024-03-05T20:01:29.286065Z",
     "shell.execute_reply.started": "2024-03-05T20:01:29.280484Z"
    }
   },
   "outputs": [],
   "source": [
    "from IPython.display import display, HTML\n",
    "\n",
    "filepath1 = os.path.join(\n",
    "    \"results\",\n",
    "    results_subfolder,\n",
    "    \"distclassipy\",\n",
    "    \"clark\",\n",
    "    \"sfs_best_confusion_matrix.pdf\",\n",
    ")\n",
    "filepath2 = os.path.join(\n",
    "    \"results\",\n",
    "    results_subfolder,\n",
    "    \"distclassipy\",\n",
    "    \"canberra\",\n",
    "    \"sfs_best_confusion_matrix.pdf\",\n",
    ")\n",
    "\n",
    "html_str = f\"\"\"\n",
    "<div style='width: 100%; display: flex;'>\n",
    "    <iframe src='{filepath1}' width='50%' height='500'></iframe>\n",
    "    <iframe src='{filepath2}' width='50%' height='500'></iframe>\n",
    "</div>\n",
    "\"\"\""
   ]
  },
  {
   "cell_type": "code",
   "execution_count": 9,
   "id": "e5b54cee-917e-4c1b-8f9e-25491de80036",
   "metadata": {
    "execution": {
     "iopub.execute_input": "2024-03-05T20:01:29.812656Z",
     "iopub.status.busy": "2024-03-05T20:01:29.811798Z",
     "iopub.status.idle": "2024-03-05T20:01:29.825324Z",
     "shell.execute_reply": "2024-03-05T20:01:29.824746Z",
     "shell.execute_reply.started": "2024-03-05T20:01:29.812620Z"
    }
   },
   "outputs": [
    {
     "data": {
      "text/plain": [
       "{'EA': 110,\n",
       " 'EW': 500,\n",
       " 'Mira': 16,\n",
       " 'CEP': 2,\n",
       " 'RSCVN': 110,\n",
       " 'SR': 161,\n",
       " 'DSCT': 22,\n",
       " 'BYDra': 114,\n",
       " 'RRc': 18,\n",
       " 'RR': 43}"
      ]
     },
     "execution_count": 9,
     "metadata": {},
     "output_type": "execute_result"
    }
   ],
   "source": [
    "table1 = {\n",
    "    \"EA\": 81393,\n",
    "    \"EW\": 369707,\n",
    "    \"Mira\": 11879,\n",
    "    \"CEP\": 1610,\n",
    "    \"RSCVN\": 81393,\n",
    "    \"SR\": 119261,\n",
    "    \"DSCT\": 16709,\n",
    "    \"BYDra\": 84697,\n",
    "    \"RRc\": 13875,\n",
    "    \"RR\": 32518,\n",
    "}\n",
    "total = sum(table1.values())\n",
    "table1_ratio = {key: value / total for key, value in table1.items()}\n",
    "max_ratio = max(table1_ratio.values())\n",
    "sample_sizes = {\n",
    "    key: int(500 * value / max_ratio) for key, value in table1_ratio.items()\n",
    "}\n",
    "sample_sizes"
   ]
  },
  {
   "cell_type": "code",
   "execution_count": 10,
   "id": "d6d09e51-0910-425a-b165-043d26a96856",
   "metadata": {
    "execution": {
     "iopub.execute_input": "2024-03-05T20:01:30.294585Z",
     "iopub.status.busy": "2024-03-05T20:01:30.293886Z",
     "iopub.status.idle": "2024-03-05T20:01:30.305782Z",
     "shell.execute_reply": "2024-03-05T20:01:30.305035Z",
     "shell.execute_reply.started": "2024-03-05T20:01:30.294554Z"
    }
   },
   "outputs": [
    {
     "data": {
      "text/plain": [
       "986"
      ]
     },
     "execution_count": 10,
     "metadata": {},
     "output_type": "execute_result"
    }
   ],
   "source": [
    "sum(sample_sizes.values()) - 110"
   ]
  },
  {
   "cell_type": "code",
   "execution_count": 11,
   "id": "8a81b907-64c6-4b18-b2fb-d9bfb547af0f",
   "metadata": {
    "execution": {
     "iopub.execute_input": "2024-03-05T20:01:30.549449Z",
     "iopub.status.busy": "2024-03-05T20:01:30.548877Z",
     "iopub.status.idle": "2024-03-05T20:01:30.559652Z",
     "shell.execute_reply": "2024-03-05T20:01:30.558997Z",
     "shell.execute_reply.started": "2024-03-05T20:01:30.549417Z"
    }
   },
   "outputs": [
    {
     "data": {
      "text/plain": [
       "{'EA': 53, 'NotEA': 483}"
      ]
     },
     "execution_count": 11,
     "metadata": {},
     "output_type": "execute_result"
    }
   ],
   "source": [
    "sample_sizes = {\"EA\": int(110 // 2.04), \"NotEA\": int(986 // 2.04)}\n",
    "sample_sizes"
   ]
  },
  {
   "cell_type": "code",
   "execution_count": 12,
   "id": "338db769-9fdc-4e1c-97cd-b067259b3936",
   "metadata": {
    "execution": {
     "iopub.execute_input": "2024-03-05T20:01:30.848297Z",
     "iopub.status.busy": "2024-03-05T20:01:30.847703Z",
     "iopub.status.idle": "2024-03-05T20:01:31.378799Z",
     "shell.execute_reply": "2024-03-05T20:01:31.378463Z",
     "shell.execute_reply.started": "2024-03-05T20:01:30.848271Z"
    },
    "tags": []
   },
   "outputs": [
    {
     "data": {
      "application/vnd.jupyter.widget-view+json": {
       "model_id": "7be060e5e45a46d5a74807df014bebc7",
       "version_major": 2,
       "version_minor": 0
      },
      "text/plain": [
       "  0%|          | 0/3 [00:00<?, ?it/s]"
      ]
     },
     "metadata": {},
     "output_type": "display_data"
    },
    {
     "name": "stdout",
     "output_type": "stream",
     "text": [
      "Euclidean\n",
      "\tExpected Score from training:\n",
      "\t\tF1 = 92.65 ± 1.53%\n",
      "\tActual score on hidden set:\n",
      "\t\tF1 = 88.57 %\n"
     ]
    },
    {
     "data": {
      "image/png": "[encoded data removed]",
      "text/plain": [
       "<Figure size 640x480 with 1 Axes>"
      ]
     },
     "metadata": {},
     "output_type": "display_data"
    },
    {
     "name": "stdout",
     "output_type": "stream",
     "text": [
      "Jaccard\n",
      "\tExpected Score from training:\n",
      "\t\tF1 = 94.17 ± 1.07%\n",
      "\tActual score on hidden set:\n",
      "\t\tF1 = 86.87 %\n"
     ]
    },
    {
     "data": {
      "image/png": "[encoded data removed]",
      "text/plain": [
       "<Figure size 640x480 with 1 Axes>"
      ]
     },
     "metadata": {},
     "output_type": "display_data"
    },
    {
     "name": "stdout",
     "output_type": "stream",
     "text": [
      "Kulczynski\n",
      "\tExpected Score from training:\n",
      "\t\tF1 = 93.54 ± 1.55%\n",
      "\tActual score on hidden set:\n",
      "\t\tF1 = 87.23 %\n"
     ]
    },
    {
     "data": {
      "image/png": "[encoded data removed]",
      "text/plain": [
       "<Figure size 640x480 with 1 Axes>"
      ]
     },
     "metadata": {},
     "output_type": "display_data"
    }
   ],
   "source": [
    "for metric in tqdm(all_metrics):\n",
    "    metric_str = utils.get_metric_name(metric)\n",
    "    locpath = os.path.join(\"results\", results_subfolder, \"distclassipy\", metric_str)\n",
    "    print(f\"{metric_str.title()}\")\n",
    "\n",
    "    sfs_df = pd.read_csv(os.path.join(locpath, \"sfs_allfeatures.csv\"), index_col=0)\n",
    "    feats_idx, feats = utils.load_best_features(sfs_df)\n",
    "\n",
    "    lcdc = dcpy.DistanceMetricClassifier(\n",
    "        metric=metric,\n",
    "        scale=True,\n",
    "        central_stat=settings_dict[\"central_stat\"],\n",
    "        dispersion_stat=settings_dict[\"dispersion_stat\"],\n",
    "        calculate_kde=False,\n",
    "        calculate_1d_dist=False,\n",
    "    )\n",
    "\n",
    "    X_df = X_df_FULL.loc[y_df.index]\n",
    "\n",
    "    X_df = X_df.loc[:, feats]\n",
    "\n",
    "    X = X_df.to_numpy()\n",
    "    y = y_df.to_numpy().ravel()\n",
    "\n",
    "    lcdc.fit(X, y)\n",
    "\n",
    "    HIDDENX_df = pd.read_csv(\"data/HIDDENX_df_ovr.csv\", index_col=0)\n",
    "    HIDDENX_df = HIDDENX_df.loc[:, X_df.columns]\n",
    "    HIDDENX_df = HIDDENX_df.dropna()\n",
    "\n",
    "    HIDDENy_df = pd.read_csv(\"data/HIDDENy_df_ovr.csv\", index_col=0)\n",
    "    HIDDENy_df = HIDDENy_df.loc[HIDDENX_df.index]\n",
    "\n",
    "    # RESAMPLE TO BE OF RATIO OF REAL WORLD\n",
    "    HIDDENy_df_resampled = []\n",
    "    for cl, subdf in HIDDENy_df.groupby(\"class\"):\n",
    "        HIDDENy_df_resampled.append(\n",
    "            subdf.sample(n=sample_sizes[cl], random_state=settings_dict[\"seed_choice\"])\n",
    "        )\n",
    "\n",
    "    HIDDENy_df = pd.concat(HIDDENy_df_resampled).sample(\n",
    "        frac=1, random_state=settings_dict[\"seed_choice\"]\n",
    "    )\n",
    "    HIDDENX_df = HIDDENX_df.loc[HIDDENy_df.index]\n",
    "    HIDDENy_df = HIDDENy_df.loc[HIDDENX_df.index]\n",
    "\n",
    "    HIDDENX_df = HIDDENX_df.loc[:, feats]\n",
    "    HIDDENX_df = HIDDENX_df.dropna()\n",
    "    HIDDENy_df = HIDDENy_df.loc[HIDDENX_df.index]\n",
    "\n",
    "    HIDDENX = HIDDENX_df.to_numpy()\n",
    "    HIDDENy = HIDDENy_df.to_numpy().ravel()\n",
    "\n",
    "    HIDDENy_pred = lcdc.predict_and_analyse(HIDDENX)\n",
    "\n",
    "    acc = accuracy_score(y_true=HIDDENy, y_pred=HIDDENy_pred)\n",
    "    f1score = f1_score(y_true=HIDDENy, y_pred=HIDDENy_pred, average=\"macro\")\n",
    "    matthew_coef = matthews_corrcoef(y_true=HIDDENy, y_pred=HIDDENy_pred)\n",
    "\n",
    "    print(\"\\tExpected Score from training:\")\n",
    "    print(\n",
    "        f\"\\t\\tF1 = {sfs_df.loc[len(feats)]['avg_score']*100:.2f} ± {sfs_df.loc[len(feats)]['std_dev']*100:.2f}%\"\n",
    "    )\n",
    "    print(\"\\tActual score on hidden set:\")\n",
    "    # print(f\"\\tAcc = {100*acc:.2f} %\")\n",
    "    print(f\"\\t\\tF1 = {100*f1score:.2f} %\")\n",
    "\n",
    "    ax = utils.plot_cm(y_true=HIDDENy, y_pred=HIDDENy_pred)\n",
    "    plt.title(f\"{metric_str.title()} metric (hidden set)\")\n",
    "    plt.savefig(os.path.join(locpath, \"hidden_cm.pdf\"), bbox_inches=\"tight\")\n",
    "    # plt.savefig(f\"hidden_cm/{metric_str}.pdf\",bbox_inches = 'tight')\n",
    "    plt.show()"
   ]
  },
  {
   "cell_type": "code",
   "execution_count": 13,
   "id": "ad608603-0d74-463f-a117-f3ec8e3e6ecf",
   "metadata": {
    "execution": {
     "iopub.execute_input": "2024-03-05T20:01:31.454914Z",
     "iopub.status.busy": "2024-03-05T20:01:31.454741Z",
     "iopub.status.idle": "2024-03-05T20:01:31.461570Z",
     "shell.execute_reply": "2024-03-05T20:01:31.461246Z",
     "shell.execute_reply.started": "2024-03-05T20:01:31.454902Z"
    }
   },
   "outputs": [
    {
     "data": {
      "text/plain": [
       "{('NotEA',): 483, ('EA',): 53}"
      ]
     },
     "execution_count": 13,
     "metadata": {},
     "output_type": "execute_result"
    }
   ],
   "source": [
    "dict(HIDDENy_df.value_counts())"
   ]
  },
  {
   "cell_type": "code",
   "execution_count": 14,
   "id": "f4d3a643-2060-4dc5-9f93-7008afff74ae",
   "metadata": {
    "execution": {
     "iopub.execute_input": "2024-03-05T20:01:31.995232Z",
     "iopub.status.busy": "2024-03-05T20:01:31.994498Z",
     "iopub.status.idle": "2024-03-05T20:01:32.001633Z",
     "shell.execute_reply": "2024-03-05T20:01:32.000945Z",
     "shell.execute_reply.started": "2024-03-05T20:01:31.995205Z"
    }
   },
   "outputs": [
    {
     "data": {
      "text/html": [
       "\n",
       "<div style='width: 100%; display: flex;'>\n",
       "    <iframe src='results/a. one-vs-rest/distclassipy/clark/sfs_best_confusion_matrix.pdf' width='50%' height='500'></iframe>\n",
       "    <iframe src='results/a. one-vs-rest/distclassipy/canberra/sfs_best_confusion_matrix.pdf' width='50%' height='500'></iframe>\n",
       "</div>\n"
      ],
      "text/plain": [
       "<IPython.core.display.HTML object>"
      ]
     },
     "metadata": {},
     "output_type": "display_data"
    }
   ],
   "source": [
    "display(HTML(html_str))"
   ]
  },
  {
   "cell_type": "code",
   "execution_count": 15,
   "id": "4d1c906e-cfe7-4972-80ed-f26b90032e86",
   "metadata": {
    "execution": {
     "iopub.execute_input": "2024-03-05T20:01:32.196243Z",
     "iopub.status.busy": "2024-03-05T20:01:32.195896Z",
     "iopub.status.idle": "2024-03-05T20:01:32.204087Z",
     "shell.execute_reply": "2024-03-05T20:01:32.203411Z",
     "shell.execute_reply.started": "2024-03-05T20:01:32.196219Z"
    }
   },
   "outputs": [
    {
     "data": {
      "text/plain": [
       "{('NotEA',): 483, ('EA',): 53}"
      ]
     },
     "execution_count": 15,
     "metadata": {},
     "output_type": "execute_result"
    }
   ],
   "source": [
    "dict(HIDDENy_df.value_counts())"
   ]
  }
 ],
 "metadata": {
  "kernelspec": {
   "display_name": "Python 3 (ipykernel)",
   "language": "python",
   "name": "python3"
  },
  "language_info": {
   "codemirror_mode": {
    "name": "ipython",
    "version": 3
   },
   "file_extension": ".py",
   "mimetype": "text/x-python",
   "name": "python",
   "nbconvert_exporter": "python",
   "pygments_lexer": "ipython3",
   "version": "3.12.2"
  }
 },
 "nbformat": 4,
 "nbformat_minor": 5
}
