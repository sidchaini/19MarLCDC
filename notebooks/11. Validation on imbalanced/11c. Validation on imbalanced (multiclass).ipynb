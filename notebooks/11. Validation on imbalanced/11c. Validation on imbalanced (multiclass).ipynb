{
 "cells": [
  {
   "cell_type": "code",
   "execution_count": 1,
   "id": "84ac8986-bb3c-4fae-896e-fd5f0893141d",
   "metadata": {
    "execution": {
     "iopub.execute_input": "2024-03-05T16:51:04.327105Z",
     "iopub.status.busy": "2024-03-05T16:51:04.326627Z",
     "iopub.status.idle": "2024-03-05T16:51:05.781429Z",
     "shell.execute_reply": "2024-03-05T16:51:05.781117Z",
     "shell.execute_reply.started": "2024-03-05T16:51:04.327091Z"
    }
   },
   "outputs": [],
   "source": [
    "import numpy as np\n",
    "import pandas as pd\n",
    "from tqdm.auto import tqdm\n",
    "import matplotlib.pyplot as plt\n",
    "import seaborn as sns\n",
    "from mlxtend.feature_selection import (\n",
    "    SequentialFeatureSelector,\n",
    ")\n",
    "from mlxtend.evaluate import feature_importance_permutation\n",
    "from mlxtend.plotting import plot_sequential_feature_selection as plot_sfs\n",
    "from sklearn.utils.estimator_checks import check_estimator\n",
    "from sklearn.ensemble import RandomForestClassifier\n",
    "from sklearn.model_selection import cross_val_predict, train_test_split\n",
    "from sklearn.metrics import accuracy_score, f1_score, matthews_corrcoef\n",
    "import matplotlib.ticker as ticker\n",
    "import os\n",
    "\n",
    "os.chdir(\"../../\")\n",
    "from pathlib import Path\n",
    "import json\n",
    "\n",
    "import sys\n",
    "\n",
    "sys.path.append(\"scripts\")\n",
    "\n",
    "import utils\n",
    "import distclassipy as dcpy\n",
    "\n",
    "cd = dcpy.Distance()"
   ]
  },
  {
   "cell_type": "code",
   "execution_count": 2,
   "id": "0d5fbcff-7500-46f8-8024-f504a71889f6",
   "metadata": {
    "execution": {
     "iopub.execute_input": "2024-03-05T16:51:05.781994Z",
     "iopub.status.busy": "2024-03-05T16:51:05.781835Z",
     "iopub.status.idle": "2024-03-05T16:51:05.787783Z",
     "shell.execute_reply": "2024-03-05T16:51:05.787359Z",
     "shell.execute_reply.started": "2024-03-05T16:51:05.781983Z"
    }
   },
   "outputs": [],
   "source": [
    "with open(\"settings.txt\") as f:\n",
    "    settings_dict = json.load(f)\n",
    "np.random.seed(settings_dict[\"seed_choice\"])\n",
    "\n",
    "classification_letter = \"c\"\n",
    "classification_problem = settings_dict[\"classification_problem\"][classification_letter]\n",
    "classes_to_keep = settings_dict[\"classes_to_keep\"][classification_letter]\n",
    "results_subfolder = f\"{classification_letter}. {classification_problem}\"\n",
    "sns_dict = settings_dict[\"sns_dict\"]\n",
    "\n",
    "sns.set_theme(**sns_dict)"
   ]
  },
  {
   "cell_type": "code",
   "execution_count": 3,
   "id": "a1af4d03-9705-4f19-8fad-52eba4b04a83",
   "metadata": {
    "execution": {
     "iopub.execute_input": "2024-03-05T16:51:05.789343Z",
     "iopub.status.busy": "2024-03-05T16:51:05.788893Z",
     "iopub.status.idle": "2024-03-05T16:51:05.868903Z",
     "shell.execute_reply": "2024-03-05T16:51:05.868590Z",
     "shell.execute_reply.started": "2024-03-05T16:51:05.789305Z"
    }
   },
   "outputs": [],
   "source": [
    "# Load Data\n",
    "X_df_FULL = pd.read_csv(\"data/X_df.csv\", index_col=0)\n",
    "y_df_FULL = pd.read_csv(\"data/y_df.csv\", index_col=0)"
   ]
  },
  {
   "cell_type": "code",
   "execution_count": 4,
   "id": "553ee405-1271-466b-91fc-f9e5653eca55",
   "metadata": {
    "execution": {
     "iopub.execute_input": "2024-03-05T16:51:05.869506Z",
     "iopub.status.busy": "2024-03-05T16:51:05.869378Z",
     "iopub.status.idle": "2024-03-05T16:51:05.877476Z",
     "shell.execute_reply": "2024-03-05T16:51:05.876269Z",
     "shell.execute_reply.started": "2024-03-05T16:51:05.869497Z"
    }
   },
   "outputs": [
    {
     "name": "stdout",
     "output_type": "stream",
     "text": [
      "31\n"
     ]
    }
   ],
   "source": [
    "# Remove features to be dropped from previous notebook\n",
    "with open(os.path.join(\"results\", results_subfolder, \"drop_features.txt\")) as f:\n",
    "    bad_features = json.load(f)  # manually selected\n",
    "\n",
    "X_df_FULL = X_df_FULL.drop(bad_features, axis=1)\n",
    "\n",
    "print(X_df_FULL.shape[1])"
   ]
  },
  {
   "cell_type": "code",
   "execution_count": 5,
   "id": "6ad41990-3da2-4b3c-b887-2147985a55a0",
   "metadata": {
    "execution": {
     "iopub.execute_input": "2024-03-05T16:51:05.879648Z",
     "iopub.status.busy": "2024-03-05T16:51:05.879248Z",
     "iopub.status.idle": "2024-03-05T16:51:05.890614Z",
     "shell.execute_reply": "2024-03-05T16:51:05.888474Z",
     "shell.execute_reply.started": "2024-03-05T16:51:05.879632Z"
    }
   },
   "outputs": [],
   "source": [
    "# Keep only current classes\n",
    "cl_keep_str = \"_\".join(classes_to_keep)\n",
    "\n",
    "y_df = y_df_FULL[y_df_FULL[\"class\"].isin(classes_to_keep)]\n",
    "X_df = X_df_FULL.loc[y_df.index]\n",
    "X = X_df.to_numpy()\n",
    "y = y_df.to_numpy().ravel()"
   ]
  },
  {
   "cell_type": "code",
   "execution_count": 6,
   "id": "595e402f-9046-480b-b2f9-808943608688",
   "metadata": {
    "execution": {
     "iopub.execute_input": "2024-03-05T16:51:05.896582Z",
     "iopub.status.busy": "2024-03-05T16:51:05.896108Z",
     "iopub.status.idle": "2024-03-05T16:51:05.904078Z",
     "shell.execute_reply": "2024-03-05T16:51:05.903575Z",
     "shell.execute_reply.started": "2024-03-05T16:51:05.896568Z"
    },
    "tags": []
   },
   "outputs": [],
   "source": [
    "with open(os.path.join(\"results\", results_subfolder, \"best_common_features.txt\")) as f:\n",
    "    best_common_features = json.load(f)"
   ]
  },
  {
   "cell_type": "code",
   "execution_count": 7,
   "id": "0f54487d-597a-4efa-953b-60dfc4db4677",
   "metadata": {
    "execution": {
     "iopub.execute_input": "2024-03-05T16:51:05.905904Z",
     "iopub.status.busy": "2024-03-05T16:51:05.905190Z",
     "iopub.status.idle": "2024-03-05T16:51:05.913626Z",
     "shell.execute_reply": "2024-03-05T16:51:05.912426Z",
     "shell.execute_reply.started": "2024-03-05T16:51:05.905721Z"
    },
    "tags": []
   },
   "outputs": [],
   "source": [
    "all_metrics = [\n",
    "    \"canberra\",  # best metric\n",
    "    \"clark\",\n",
    "    # \"euclidean\",\n",
    "    # \"hellinger\"\n",
    "]"
   ]
  },
  {
   "cell_type": "code",
   "execution_count": 8,
   "id": "16e1b9ad-48af-48ea-9683-e12eb915372e",
   "metadata": {
    "execution": {
     "iopub.execute_input": "2024-03-05T16:51:05.914549Z",
     "iopub.status.busy": "2024-03-05T16:51:05.914364Z",
     "iopub.status.idle": "2024-03-05T16:51:05.924140Z",
     "shell.execute_reply": "2024-03-05T16:51:05.922073Z",
     "shell.execute_reply.started": "2024-03-05T16:51:05.914515Z"
    }
   },
   "outputs": [],
   "source": [
    "from IPython.display import display, HTML\n",
    "\n",
    "filepath1 = os.path.join(\n",
    "    \"results\",\n",
    "    results_subfolder,\n",
    "    \"distclassipy\",\n",
    "    \"clark\",\n",
    "    \"sfs_best_confusion_matrix.pdf\",\n",
    ")\n",
    "filepath2 = os.path.join(\n",
    "    \"results\",\n",
    "    results_subfolder,\n",
    "    \"distclassipy\",\n",
    "    \"canberra\",\n",
    "    \"sfs_best_confusion_matrix.pdf\",\n",
    ")\n",
    "\n",
    "html_str = f\"\"\"\n",
    "<div style='width: 100%; display: flex;'>\n",
    "    <iframe src='{filepath1}' width='50%' height='500'></iframe>\n",
    "    <iframe src='{filepath2}' width='50%' height='500'></iframe>\n",
    "</div>\n",
    "\"\"\""
   ]
  },
  {
   "cell_type": "code",
   "execution_count": 9,
   "id": "2653fd0d-c8f0-47d9-bd93-ad942ea5fd84",
   "metadata": {
    "execution": {
     "iopub.execute_input": "2024-03-05T16:51:05.926206Z",
     "iopub.status.busy": "2024-03-05T16:51:05.926025Z",
     "iopub.status.idle": "2024-03-05T16:51:05.939839Z",
     "shell.execute_reply": "2024-03-05T16:51:05.938566Z",
     "shell.execute_reply.started": "2024-03-05T16:51:05.926196Z"
    }
   },
   "outputs": [
    {
     "data": {
      "text/plain": [
       "{'DSCT': 253, 'RR': 494, 'CEP': 24, 'RRc': 210}"
      ]
     },
     "execution_count": 9,
     "metadata": {},
     "output_type": "execute_result"
    }
   ],
   "source": [
    "table1 = {\"DSCT\": 16709, \"RR\": 32518, \"CEP\": 1610, \"RRc\": 13875}\n",
    "total = sum(table1.values())\n",
    "table1_ratio = {key: value / total for key, value in table1.items()}\n",
    "max_ratio = max(table1_ratio.values())\n",
    "sample_sizes = {\n",
    "    key: int(494 * value / max_ratio) for key, value in table1_ratio.items()\n",
    "}\n",
    "sample_sizes"
   ]
  },
  {
   "cell_type": "code",
   "execution_count": 10,
   "id": "b73dd2b8-7b73-4434-ba5e-cbf43f7310ff",
   "metadata": {
    "execution": {
     "iopub.execute_input": "2024-03-05T16:51:05.941951Z",
     "iopub.status.busy": "2024-03-05T16:51:05.940734Z",
     "iopub.status.idle": "2024-03-05T16:51:05.949012Z",
     "shell.execute_reply": "2024-03-05T16:51:05.947071Z",
     "shell.execute_reply.started": "2024-03-05T16:51:05.941935Z"
    }
   },
   "outputs": [],
   "source": [
    "HIDDENy_preds_dict = {}"
   ]
  },
  {
   "cell_type": "code",
   "execution_count": 11,
   "id": "338db769-9fdc-4e1c-97cd-b067259b3936",
   "metadata": {
    "execution": {
     "iopub.execute_input": "2024-03-05T16:51:05.950558Z",
     "iopub.status.busy": "2024-03-05T16:51:05.950438Z",
     "iopub.status.idle": "2024-03-05T16:51:06.466108Z",
     "shell.execute_reply": "2024-03-05T16:51:06.465766Z",
     "shell.execute_reply.started": "2024-03-05T16:51:05.950549Z"
    },
    "tags": []
   },
   "outputs": [
    {
     "data": {
      "application/vnd.jupyter.widget-view+json": {
       "model_id": "66b91328a0544732bdc4a1d20834f948",
       "version_major": 2,
       "version_minor": 0
      },
      "text/plain": [
       "  0%|          | 0/2 [00:00<?, ?it/s]"
      ]
     },
     "metadata": {},
     "output_type": "display_data"
    },
    {
     "name": "stdout",
     "output_type": "stream",
     "text": [
      "Canberra\n",
      "\tExpected Score from training:\n",
      "\t\tF1 = 91.22 ± 1.38%\n",
      "\tActual score on hidden set:\n",
      "\t\tF1 = 93.13 %\n"
     ]
    },
    {
     "data": {
      "image/png": "[encoded data removed]",
      "text/plain": [
       "<Figure size 640x480 with 1 Axes>"
      ]
     },
     "metadata": {},
     "output_type": "display_data"
    },
    {
     "name": "stdout",
     "output_type": "stream",
     "text": [
      "Clark\n",
      "\tExpected Score from training:\n",
      "\t\tF1 = 91.99 ± 0.61%\n",
      "\tActual score on hidden set:\n",
      "\t\tF1 = 86.44 %\n"
     ]
    },
    {
     "data": {
      "image/png": "[encoded data removed]",
      "text/plain": [
       "<Figure size 640x480 with 1 Axes>"
      ]
     },
     "metadata": {},
     "output_type": "display_data"
    }
   ],
   "source": [
    "for metric in tqdm(all_metrics):\n",
    "    metric_str = utils.get_metric_name(metric)\n",
    "    locpath = os.path.join(\"results\", results_subfolder, \"distclassipy\", metric_str)\n",
    "    print(f\"{metric_str.title()}\")\n",
    "\n",
    "    sfs_df = pd.read_csv(os.path.join(locpath, \"sfs_allfeatures.csv\"), index_col=0)\n",
    "    feats_idx, feats = utils.load_best_features(sfs_df)\n",
    "\n",
    "    lcdc = dcpy.DistanceMetricClassifier(\n",
    "        metric=metric,\n",
    "        scale=True,\n",
    "        central_stat=settings_dict[\"central_stat\"],\n",
    "        dispersion_stat=settings_dict[\"dispersion_stat\"],\n",
    "        calculate_kde=False,\n",
    "        calculate_1d_dist=False,\n",
    "    )\n",
    "\n",
    "    X_df = X_df_FULL.loc[y_df.index]\n",
    "\n",
    "    X_df = X_df.loc[:, feats]\n",
    "\n",
    "    X = X_df.to_numpy()\n",
    "    y = y_df.to_numpy().ravel()\n",
    "\n",
    "    lcdc.fit(X, y)\n",
    "\n",
    "    HIDDENX_df = pd.read_csv(\"data/HIDDENX_df_multiclass.csv\", index_col=0)\n",
    "    HIDDENX_df = HIDDENX_df.loc[:, X_df.columns]\n",
    "    HIDDENX_df = HIDDENX_df.dropna()\n",
    "\n",
    "    HIDDENy_df = pd.read_csv(\"data/HIDDENy_df_multiclass.csv\", index_col=0)\n",
    "    HIDDENy_df = HIDDENy_df.loc[HIDDENX_df.index]\n",
    "\n",
    "    # RESAMPLE TO BE OF RATIO OF REAL WORLD\n",
    "    HIDDENy_df_resampled = []\n",
    "    for cl, subdf in HIDDENy_df.groupby(\"class\"):\n",
    "        HIDDENy_df_resampled.append(\n",
    "            subdf.sample(n=sample_sizes[cl], random_state=settings_dict[\"seed_choice\"])\n",
    "        )\n",
    "\n",
    "    HIDDENy_df = pd.concat(HIDDENy_df_resampled).sample(\n",
    "        frac=1, random_state=settings_dict[\"seed_choice\"]\n",
    "    )\n",
    "    HIDDENX_df = HIDDENX_df.loc[HIDDENy_df.index]\n",
    "    HIDDENy_df = HIDDENy_df.loc[HIDDENX_df.index]\n",
    "\n",
    "    HIDDENX_df = HIDDENX_df.loc[:, feats]\n",
    "    HIDDENX_df = HIDDENX_df.dropna()\n",
    "    HIDDENy_df = HIDDENy_df.loc[HIDDENX_df.index]\n",
    "\n",
    "    HIDDENX = HIDDENX_df.to_numpy()\n",
    "    HIDDENy = HIDDENy_df.to_numpy().ravel()\n",
    "\n",
    "    HIDDENy_pred = lcdc.predict_and_analyse(HIDDENX)\n",
    "    HIDDENy_preds_dict[metric_str] = HIDDENy_pred\n",
    "\n",
    "    acc = accuracy_score(y_true=HIDDENy, y_pred=HIDDENy_pred)\n",
    "    f1score = f1_score(y_true=HIDDENy, y_pred=HIDDENy_pred, average=\"macro\")\n",
    "    matthew_coef = matthews_corrcoef(y_true=HIDDENy, y_pred=HIDDENy_pred)\n",
    "\n",
    "    print(\"\\tExpected Score from training:\")\n",
    "    print(\n",
    "        f\"\\t\\tF1 = {sfs_df.loc[len(feats)]['avg_score']*100:.2f} ± {sfs_df.loc[len(feats)]['std_dev']*100:.2f}%\"\n",
    "    )\n",
    "    print(\"\\tActual score on hidden set:\")\n",
    "    # print(f\"\\tAcc = {100*acc:.2f} %\")\n",
    "    print(f\"\\t\\tF1 = {100*f1score:.2f} %\")\n",
    "\n",
    "    ax = utils.plot_cm(y_true=HIDDENy, y_pred=HIDDENy_pred)\n",
    "    plt.title(f\"{metric_str.title()} metric (hidden set)\")\n",
    "    plt.savefig(os.path.join(locpath, \"hidden_cm.pdf\"), bbox_inches=\"tight\")\n",
    "    # plt.savefig(f\"hidden_cm/{metric_str}.pdf\",bbox_inches = 'tight')\n",
    "    plt.show()"
   ]
  },
  {
   "cell_type": "code",
   "execution_count": 12,
   "id": "ad608603-0d74-463f-a117-f3ec8e3e6ecf",
   "metadata": {
    "execution": {
     "iopub.execute_input": "2024-03-05T16:51:06.466824Z",
     "iopub.status.busy": "2024-03-05T16:51:06.466712Z",
     "iopub.status.idle": "2024-03-05T16:51:06.475702Z",
     "shell.execute_reply": "2024-03-05T16:51:06.474365Z",
     "shell.execute_reply.started": "2024-03-05T16:51:06.466815Z"
    }
   },
   "outputs": [
    {
     "data": {
      "text/plain": [
       "class\n",
       "RR       494\n",
       "DSCT     253\n",
       "RRc      210\n",
       "CEP       24\n",
       "Name: count, dtype: int64"
      ]
     },
     "execution_count": 12,
     "metadata": {},
     "output_type": "execute_result"
    }
   ],
   "source": [
    "HIDDENy_df.value_counts()"
   ]
  },
  {
   "cell_type": "code",
   "execution_count": 13,
   "id": "f4d3a643-2060-4dc5-9f93-7008afff74ae",
   "metadata": {
    "execution": {
     "iopub.execute_input": "2024-03-05T16:51:06.476638Z",
     "iopub.status.busy": "2024-03-05T16:51:06.476536Z",
     "iopub.status.idle": "2024-03-05T16:51:06.486596Z",
     "shell.execute_reply": "2024-03-05T16:51:06.484544Z",
     "shell.execute_reply.started": "2024-03-05T16:51:06.476629Z"
    }
   },
   "outputs": [
    {
     "data": {
      "text/html": [
       "\n",
       "<div style='width: 100%; display: flex;'>\n",
       "    <iframe src='results/c. multiclass/distclassipy/clark/sfs_best_confusion_matrix.pdf' width='50%' height='500'></iframe>\n",
       "    <iframe src='results/c. multiclass/distclassipy/canberra/sfs_best_confusion_matrix.pdf' width='50%' height='500'></iframe>\n",
       "</div>\n"
      ],
      "text/plain": [
       "<IPython.core.display.HTML object>"
      ]
     },
     "metadata": {},
     "output_type": "display_data"
    }
   ],
   "source": [
    "display(HTML(html_str))"
   ]
  },
  {
   "cell_type": "code",
   "execution_count": 14,
   "id": "4d1c906e-cfe7-4972-80ed-f26b90032e86",
   "metadata": {
    "execution": {
     "iopub.execute_input": "2024-03-05T16:51:06.487805Z",
     "iopub.status.busy": "2024-03-05T16:51:06.487710Z",
     "iopub.status.idle": "2024-03-05T16:51:06.494860Z",
     "shell.execute_reply": "2024-03-05T16:51:06.494111Z",
     "shell.execute_reply.started": "2024-03-05T16:51:06.487795Z"
    }
   },
   "outputs": [
    {
     "data": {
      "text/plain": [
       "class\n",
       "RR       494\n",
       "DSCT     253\n",
       "RRc      210\n",
       "CEP       24\n",
       "Name: count, dtype: int64"
      ]
     },
     "execution_count": 14,
     "metadata": {},
     "output_type": "execute_result"
    }
   ],
   "source": [
    "HIDDENy_df.value_counts()"
   ]
  },
  {
   "cell_type": "code",
   "execution_count": 15,
   "id": "a9020586-be46-445b-947b-79967f9b7801",
   "metadata": {
    "execution": {
     "iopub.execute_input": "2024-03-05T16:51:06.496320Z",
     "iopub.status.busy": "2024-03-05T16:51:06.496056Z",
     "iopub.status.idle": "2024-03-05T16:51:06.517405Z",
     "shell.execute_reply": "2024-03-05T16:51:06.515806Z",
     "shell.execute_reply.started": "2024-03-05T16:51:06.496254Z"
    }
   },
   "outputs": [
    {
     "data": {
      "text/html": [
       "<div>\n",
       "<style scoped>\n",
       "    .dataframe tbody tr th:only-of-type {\n",
       "        vertical-align: middle;\n",
       "    }\n",
       "\n",
       "    .dataframe tbody tr th {\n",
       "        vertical-align: top;\n",
       "    }\n",
       "\n",
       "    .dataframe thead th {\n",
       "        text-align: right;\n",
       "    }\n",
       "</style>\n",
       "<table border=\"1\" class=\"dataframe\">\n",
       "  <thead>\n",
       "    <tr style=\"text-align: right;\">\n",
       "      <th></th>\n",
       "      <th>Canberra</th>\n",
       "      <th>Clark</th>\n",
       "      <th>CHEN</th>\n",
       "    </tr>\n",
       "    <tr>\n",
       "      <th>oid</th>\n",
       "      <th></th>\n",
       "      <th></th>\n",
       "      <th></th>\n",
       "    </tr>\n",
       "  </thead>\n",
       "  <tbody>\n",
       "    <tr>\n",
       "      <th>519864</th>\n",
       "      <td>DSCT</td>\n",
       "      <td>DSCT</td>\n",
       "      <td>DSCT</td>\n",
       "    </tr>\n",
       "    <tr>\n",
       "      <th>63902</th>\n",
       "      <td>DSCT</td>\n",
       "      <td>DSCT</td>\n",
       "      <td>DSCT</td>\n",
       "    </tr>\n",
       "    <tr>\n",
       "      <th>190237</th>\n",
       "      <td>RRc</td>\n",
       "      <td>RRc</td>\n",
       "      <td>RRc</td>\n",
       "    </tr>\n",
       "    <tr>\n",
       "      <th>278302</th>\n",
       "      <td>RR</td>\n",
       "      <td>RR</td>\n",
       "      <td>RR</td>\n",
       "    </tr>\n",
       "    <tr>\n",
       "      <th>331707</th>\n",
       "      <td>RRc</td>\n",
       "      <td>RRc</td>\n",
       "      <td>RRc</td>\n",
       "    </tr>\n",
       "    <tr>\n",
       "      <th>...</th>\n",
       "      <td>...</td>\n",
       "      <td>...</td>\n",
       "      <td>...</td>\n",
       "    </tr>\n",
       "    <tr>\n",
       "      <th>574583</th>\n",
       "      <td>RR</td>\n",
       "      <td>RR</td>\n",
       "      <td>RR</td>\n",
       "    </tr>\n",
       "    <tr>\n",
       "      <th>394901</th>\n",
       "      <td>DSCT</td>\n",
       "      <td>DSCT</td>\n",
       "      <td>DSCT</td>\n",
       "    </tr>\n",
       "    <tr>\n",
       "      <th>196797</th>\n",
       "      <td>RR</td>\n",
       "      <td>RR</td>\n",
       "      <td>RR</td>\n",
       "    </tr>\n",
       "    <tr>\n",
       "      <th>213739</th>\n",
       "      <td>RR</td>\n",
       "      <td>RR</td>\n",
       "      <td>RR</td>\n",
       "    </tr>\n",
       "    <tr>\n",
       "      <th>196682</th>\n",
       "      <td>RRc</td>\n",
       "      <td>RRc</td>\n",
       "      <td>RRc</td>\n",
       "    </tr>\n",
       "  </tbody>\n",
       "</table>\n",
       "<p>981 rows × 3 columns</p>\n",
       "</div>"
      ],
      "text/plain": [
       "       Canberra Clark  CHEN\n",
       "oid                        \n",
       "519864     DSCT  DSCT  DSCT\n",
       "63902      DSCT  DSCT  DSCT\n",
       "190237      RRc   RRc   RRc\n",
       "278302       RR    RR    RR\n",
       "331707      RRc   RRc   RRc\n",
       "...         ...   ...   ...\n",
       "574583       RR    RR    RR\n",
       "394901     DSCT  DSCT  DSCT\n",
       "196797       RR    RR    RR\n",
       "213739       RR    RR    RR\n",
       "196682      RRc   RRc   RRc\n",
       "\n",
       "[981 rows x 3 columns]"
      ]
     },
     "execution_count": 15,
     "metadata": {},
     "output_type": "execute_result"
    }
   ],
   "source": [
    "finalpredsdf = pd.DataFrame(HIDDENy_preds_dict, index=HIDDENy_df.index)\n",
    "finalpredsdf[\"CHEN\"] = HIDDENy_df[\"class\"]\n",
    "finalpredsdf"
   ]
  },
  {
   "cell_type": "code",
   "execution_count": 16,
   "id": "40bb17a1-0446-483a-9d54-7f61f47660e4",
   "metadata": {
    "execution": {
     "iopub.execute_input": "2024-03-05T16:51:06.524759Z",
     "iopub.status.busy": "2024-03-05T16:51:06.524572Z",
     "iopub.status.idle": "2024-03-05T16:51:06.532472Z",
     "shell.execute_reply": "2024-03-05T16:51:06.532006Z",
     "shell.execute_reply.started": "2024-03-05T16:51:06.524749Z"
    }
   },
   "outputs": [],
   "source": [
    "incorrectchendf = finalpredsdf[\n",
    "    (finalpredsdf[\"Canberra\"] == finalpredsdf[\"Clark\"])\n",
    "    & (finalpredsdf[\"Canberra\"] != finalpredsdf[\"CHEN\"])\n",
    "]"
   ]
  },
  {
   "cell_type": "code",
   "execution_count": 17,
   "id": "97d98c49-4fc1-4264-a958-e36b442c0a59",
   "metadata": {
    "execution": {
     "iopub.execute_input": "2024-03-05T16:51:06.538499Z",
     "iopub.status.busy": "2024-03-05T16:51:06.535775Z",
     "iopub.status.idle": "2024-03-05T16:51:11.034853Z",
     "shell.execute_reply": "2024-03-05T16:51:11.034492Z",
     "shell.execute_reply.started": "2024-03-05T16:51:06.538475Z"
    }
   },
   "outputs": [],
   "source": [
    "lightcurves = pd.read_csv(\n",
    "    \"/Users/sidchaini/Research/LCDistanceMetrics/phoenix/ztf_download/hidden_data_multiclass/FULLQuaternary2000.csv.gz\",\n",
    "    index_col=0,\n",
    ")\n",
    "metadata = pd.read_csv(\n",
    "    \"/Users/sidchaini/Research/LCDistanceMetrics/phoenix/ztf_download/hidden_data_multiclass/subcatalog.csv\",\n",
    "    index_col=0,\n",
    ")\n",
    "\n",
    "lightcurves = lightcurves.loc[finalpredsdf[\"CHEN\"].index]\n",
    "metadata = metadata.loc[finalpredsdf[\"CHEN\"].index]"
   ]
  },
  {
   "cell_type": "code",
   "execution_count": 18,
   "id": "b3e2d223-1517-4cd0-aa80-a68f2726d6b4",
   "metadata": {
    "execution": {
     "iopub.execute_input": "2024-03-05T16:51:11.035748Z",
     "iopub.status.busy": "2024-03-05T16:51:11.035618Z",
     "iopub.status.idle": "2024-03-05T16:51:11.114306Z",
     "shell.execute_reply": "2024-03-05T16:51:11.114024Z",
     "shell.execute_reply.started": "2024-03-05T16:51:11.035738Z"
    }
   },
   "outputs": [],
   "source": [
    "import numpy as np\n",
    "import pandas as pd\n",
    "from tqdm.auto import tqdm\n",
    "import matplotlib.pyplot as plt\n",
    "import plotly.express as px\n",
    "import seaborn as sns\n",
    "import time\n",
    "from scipy.spatial import distance\n",
    "from sklearn.ensemble import RandomForestClassifier\n",
    "from sklearn.preprocessing import StandardScaler, MinMaxScaler\n",
    "from sklearn.metrics import accuracy_score, f1_score, matthews_corrcoef\n",
    "from sklearn.metrics import confusion_matrix, ConfusionMatrixDisplay\n",
    "\n",
    "# from sklearn.feature_selection import SequentialFeatureSelector\n",
    "from mlxtend.feature_selection import (\n",
    "    SequentialFeatureSelector,\n",
    "    ExhaustiveFeatureSelector,\n",
    ")\n",
    "from mlxtend.plotting import plot_sequential_feature_selection as plot_sfs\n",
    "from sklearn.utils.estimator_checks import check_estimator\n",
    "from sklearn.model_selection import cross_val_predict, train_test_split\n",
    "import math\n",
    "import ast\n",
    "\n",
    "import os\n",
    "from pathlib import Path\n",
    "import pickle\n",
    "import json"
   ]
  },
  {
   "cell_type": "code",
   "execution_count": 19,
   "id": "e130e934-273d-4257-ba8b-0b8419ddea76",
   "metadata": {
    "execution": {
     "iopub.execute_input": "2024-03-05T16:51:11.114954Z",
     "iopub.status.busy": "2024-03-05T16:51:11.114824Z",
     "iopub.status.idle": "2024-03-05T16:51:11.117653Z",
     "shell.execute_reply": "2024-03-05T16:51:11.117406Z",
     "shell.execute_reply.started": "2024-03-05T16:51:11.114944Z"
    }
   },
   "outputs": [
    {
     "data": {
      "text/plain": [
       "0.0751385"
      ]
     },
     "execution_count": 19,
     "metadata": {},
     "output_type": "execute_result"
    }
   ],
   "source": [
    "metadata.loc[63902][\"Per_g\"]"
   ]
  },
  {
   "cell_type": "code",
   "execution_count": 20,
   "id": "15c463c6-9abf-40b5-964c-abfdb6bd282f",
   "metadata": {
    "execution": {
     "iopub.execute_input": "2024-03-05T16:51:11.118793Z",
     "iopub.status.busy": "2024-03-05T16:51:11.118254Z",
     "iopub.status.idle": "2024-03-05T16:51:11.130121Z",
     "shell.execute_reply": "2024-03-05T16:51:11.128369Z",
     "shell.execute_reply.started": "2024-03-05T16:51:11.118781Z"
    }
   },
   "outputs": [
    {
     "data": {
      "text/plain": [
       "Period_band_r          0.075139\n",
       "GP_DRW_tau_r           0.046501\n",
       "Harmonics_phase_2_r    2.519625\n",
       "Harmonics_phase_3_r    3.506107\n",
       "Amplitude_r            0.082816\n",
       "Rcs_r                  0.093869\n",
       "Name: 63902, dtype: float64"
      ]
     },
     "execution_count": 20,
     "metadata": {},
     "output_type": "execute_result"
    }
   ],
   "source": [
    "HIDDENX_df.loc[63902]"
   ]
  },
  {
   "cell_type": "code",
   "execution_count": 21,
   "id": "f58e9e28-98fa-41c1-a31f-b0252dc8581a",
   "metadata": {
    "execution": {
     "iopub.execute_input": "2024-03-05T16:51:11.142659Z",
     "iopub.status.busy": "2024-03-05T16:51:11.142415Z",
     "iopub.status.idle": "2024-03-05T16:51:11.149822Z",
     "shell.execute_reply": "2024-03-05T16:51:11.148659Z",
     "shell.execute_reply.started": "2024-03-05T16:51:11.142648Z"
    }
   },
   "outputs": [],
   "source": [
    "# def plot_lightcurves(oid,lightcurves,metadata,result_df,bands=\"gr\"):\n",
    "\n",
    "\n",
    "def plot_lightcurves(oid, bands=\"gr\"):\n",
    "    # meta = HIDDENX_df.loc[oid]\n",
    "    lc = lightcurves.loc[oid]\n",
    "    band_colors = {\"g\": \"SteelBlue\", \"r\": \"IndianRed\"}\n",
    "\n",
    "    lc = lc.sort_values(by=\"mjd\")\n",
    "    lc[\"mjd\"] = lc[\"mjd\"] - lc[\"mjd\"].min()\n",
    "\n",
    "    # fig, (ax0,ax1) = plt.subplots(2,1)\n",
    "    # defsize=(6.4*2,4.8)\n",
    "    defsize = (8, 4)\n",
    "    fig, (ax0, ax1) = plt.subplots(1, 2, figsize=defsize, sharey=False)\n",
    "\n",
    "    period = HIDDENX_df.loc[oid, \"Period_band_r\"]\n",
    "    for band in bands:\n",
    "        lc_band = lc[lc[\"filtercode\"] == f\"z{band}\"]\n",
    "\n",
    "        mjd_band = lc_band[\"mjd\"].to_numpy()\n",
    "        mag_band = lc_band[\"mag\"].to_numpy()\n",
    "        magerr_band = lc_band[\"magerr\"].to_numpy()\n",
    "        color = band_colors[band]\n",
    "\n",
    "        # Raw light curve\n",
    "        ax0.errorbar(\n",
    "            x=mjd_band, y=mag_band, c=color, yerr=magerr_band, fmt=\".\", label=band, ms=1\n",
    "        )\n",
    "\n",
    "        # Period folded light curve\n",
    "        folded_mjd_band = np.mod(mjd_band, period)\n",
    "        phase_band = folded_mjd_band / period\n",
    "\n",
    "        ax1.errorbar(x=phase_band, y=mag_band, c=color, yerr=magerr_band, fmt=\".\", ms=1)\n",
    "        ax1.errorbar(\n",
    "            x=phase_band + 1, y=mag_band, c=color, yerr=magerr_band, fmt=\".\", ms=1\n",
    "        )\n",
    "\n",
    "    true_class = incorrectchendf.loc[oid, \"CHEN\"]\n",
    "    canberra_pred = incorrectchendf.loc[oid, \"Canberra\"]\n",
    "    clark_pred = incorrectchendf.loc[oid, \"Clark\"]\n",
    "    # rfc_pred = incorrectchendf.loc[oid,'rfc_pred']\n",
    "\n",
    "    canberra_txtcol = (\n",
    "        sns.color_palette()[2]\n",
    "        if canberra_pred == true_class\n",
    "        else sns.color_palette()[3]\n",
    "    )\n",
    "    clark_txtcol = (\n",
    "        sns.color_palette()[2] if clark_pred == true_class else sns.color_palette()[3]\n",
    "    )\n",
    "    # rfc_txtcol = sns.color_palette()[2] if rfc_pred==true_class else sns.color_palette()[3]\n",
    "\n",
    "    # fig.suptitle(f\"OID: {oid}\\nChen Class: {true_class}\\n\\nCanberra Prediction:{canberra_pred}\\nClark Prediction:{clark_pred}\\nRFC Prediction:{rfc_pred}\")\n",
    "    # fig.suptitle(f\"OID: {oid}\\nChen Class: {true_class}\\n\\n{'Canberra Prediction:'.ljust(40)}\\n{'Clark Prediction:'.ljust(30)}\\n{'RFC Prediction:'.ljust(27)}\")\n",
    "    fig.suptitle(\n",
    "        f\"OID: {oid}\\nChen Class: {true_class}\\n\\n{'Canberra Prediction:'.ljust(40)}\\n{'Clark Prediction:'.ljust(30)}\"\n",
    "    )\n",
    "    fig.text(\n",
    "        0.56,\n",
    "        0.778,\n",
    "        canberra_pred,\n",
    "        ha=\"left\",\n",
    "        va=\"bottom\",\n",
    "        size=\"large\",\n",
    "        color=canberra_txtcol,\n",
    "    )\n",
    "    fig.text(\n",
    "        0.56,\n",
    "        0.725,\n",
    "        clark_pred,\n",
    "        ha=\"left\",\n",
    "        va=\"bottom\",\n",
    "        size=\"large\",\n",
    "        color=clark_txtcol,\n",
    "    )\n",
    "    # fig.text(0.56, 0.672, rfc_pred, ha=\"left\", va=\"bottom\", size=\"large\", color=rfc_txtcol)\n",
    "\n",
    "    # fig.suptitle(f\"{meta['class'].unique()[0]}\")\n",
    "    ax0.set_xlabel(\"Days\")\n",
    "    ax0.set_ylabel(\"Magnitude\")\n",
    "    ax0.invert_yaxis()\n",
    "    # ax0.grid()\n",
    "\n",
    "    ax1.set_xlabel(\"Phase\")\n",
    "    ax1.set_ylabel(\"Magnitude\")\n",
    "    # ax1.set_title(f\"Period: {period_band:.2f} days\")\n",
    "    ax1.invert_yaxis()\n",
    "    # ax1.grid()\n",
    "\n",
    "    fig.legend(loc=\"lower left\")\n",
    "    fig.tight_layout()\n",
    "    # fig.legend()\n",
    "\n",
    "    return fig"
   ]
  },
  {
   "cell_type": "code",
   "execution_count": 22,
   "id": "d30d0207-3980-40bd-9300-8e4677868a28",
   "metadata": {
    "execution": {
     "iopub.execute_input": "2024-03-05T16:51:11.152253Z",
     "iopub.status.busy": "2024-03-05T16:51:11.151976Z",
     "iopub.status.idle": "2024-03-05T16:51:11.310958Z",
     "shell.execute_reply": "2024-03-05T16:51:11.310687Z",
     "shell.execute_reply.started": "2024-03-05T16:51:11.152239Z"
    }
   },
   "outputs": [
    {
     "data": {
      "image/png": "[encoded data removed]",
      "text/plain": [
       "<Figure size 800x400 with 2 Axes>"
      ]
     },
     "metadata": {},
     "output_type": "display_data"
    }
   ],
   "source": [
    "fig = plot_lightcurves(764518)"
   ]
  },
  {
   "cell_type": "code",
   "execution_count": 23,
   "id": "bacf3735-77e6-4bb7-a247-240482236ba1",
   "metadata": {
    "execution": {
     "iopub.execute_input": "2024-03-05T16:51:11.311774Z",
     "iopub.status.busy": "2024-03-05T16:51:11.311652Z",
     "iopub.status.idle": "2024-03-05T16:51:17.522849Z",
     "shell.execute_reply": "2024-03-05T16:51:17.522231Z",
     "shell.execute_reply.started": "2024-03-05T16:51:11.311765Z"
    }
   },
   "outputs": [
    {
     "data": {
      "application/vnd.jupyter.widget-view+json": {
       "model_id": "4f08aa4134cb4500943e3014e73e3563",
       "version_major": 2,
       "version_minor": 0
      },
      "text/plain": [
       "  0%|          | 0/22 [00:00<?, ?it/s]"
      ]
     },
     "metadata": {},
     "output_type": "display_data"
    }
   ],
   "source": [
    "for oid in tqdm(incorrectchendf.index):\n",
    "    fig = plot_lightcurves(oid)\n",
    "    fig.savefig(f\"lcs/{oid}.png\", dpi=250, bbox_inches=\"tight\")\n",
    "    plt.close()"
   ]
  },
  {
   "cell_type": "code",
   "execution_count": null,
   "id": "3a4f1936-1bcd-4259-a63b-35dcba23a5a5",
   "metadata": {},
   "outputs": [],
   "source": []
  }
 ],
 "metadata": {
  "kernelspec": {
   "display_name": "Python 3 (ipykernel)",
   "language": "python",
   "name": "python3"
  },
  "language_info": {
   "codemirror_mode": {
    "name": "ipython",
    "version": 3
   },
   "file_extension": ".py",
   "mimetype": "text/x-python",
   "name": "python",
   "nbconvert_exporter": "python",
   "pygments_lexer": "ipython3",
   "version": "3.12.2"
  }
 },
 "nbformat": 4,
 "nbformat_minor": 5
}
