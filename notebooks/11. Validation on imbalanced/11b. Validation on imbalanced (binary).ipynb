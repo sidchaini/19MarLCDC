{
 "cells": [
  {
   "cell_type": "code",
   "execution_count": 1,
   "id": "84ac8986-bb3c-4fae-896e-fd5f0893141d",
   "metadata": {
    "execution": {
     "iopub.execute_input": "2024-03-05T16:43:24.274855Z",
     "iopub.status.busy": "2024-03-05T16:43:24.274641Z",
     "iopub.status.idle": "2024-03-05T16:43:28.081963Z",
     "shell.execute_reply": "2024-03-05T16:43:28.075897Z",
     "shell.execute_reply.started": "2024-03-05T16:43:24.274843Z"
    }
   },
   "outputs": [],
   "source": [
    "import numpy as np\n",
    "import pandas as pd\n",
    "from tqdm.auto import tqdm\n",
    "import matplotlib.pyplot as plt\n",
    "import seaborn as sns\n",
    "from mlxtend.feature_selection import (\n",
    "    SequentialFeatureSelector,\n",
    ")\n",
    "from mlxtend.evaluate import feature_importance_permutation\n",
    "from mlxtend.plotting import plot_sequential_feature_selection as plot_sfs\n",
    "from sklearn.utils.estimator_checks import check_estimator\n",
    "from sklearn.ensemble import RandomForestClassifier\n",
    "from sklearn.model_selection import cross_val_predict, train_test_split\n",
    "from sklearn.metrics import accuracy_score, f1_score, matthews_corrcoef\n",
    "import matplotlib.ticker as ticker\n",
    "import os\n",
    "\n",
    "os.chdir(\"../../\")\n",
    "from pathlib import Path\n",
    "import json\n",
    "\n",
    "import sys\n",
    "\n",
    "sys.path.append(\"scripts\")\n",
    "\n",
    "import utils\n",
    "import distclassipy as dcpy\n",
    "\n",
    "cd = dcpy.Distance()"
   ]
  },
  {
   "cell_type": "code",
   "execution_count": 2,
   "id": "0d5fbcff-7500-46f8-8024-f504a71889f6",
   "metadata": {
    "execution": {
     "iopub.execute_input": "2024-03-05T16:43:28.109707Z",
     "iopub.status.busy": "2024-03-05T16:43:28.107194Z",
     "iopub.status.idle": "2024-03-05T16:43:28.124461Z",
     "shell.execute_reply": "2024-03-05T16:43:28.122748Z",
     "shell.execute_reply.started": "2024-03-05T16:43:28.109682Z"
    }
   },
   "outputs": [],
   "source": [
    "with open(\"settings.txt\") as f:\n",
    "    settings_dict = json.load(f)\n",
    "np.random.seed(settings_dict[\"seed_choice\"])\n",
    "\n",
    "classification_letter = \"b\"\n",
    "classification_problem = settings_dict[\"classification_problem\"][classification_letter]\n",
    "classes_to_keep = settings_dict[\"classes_to_keep\"][classification_letter]\n",
    "results_subfolder = f\"{classification_letter}. {classification_problem}\"\n",
    "sns_dict = settings_dict[\"sns_dict\"]\n",
    "\n",
    "sns.set_theme(**sns_dict)"
   ]
  },
  {
   "cell_type": "code",
   "execution_count": 3,
   "id": "a1af4d03-9705-4f19-8fad-52eba4b04a83",
   "metadata": {
    "execution": {
     "iopub.execute_input": "2024-03-05T16:43:28.127876Z",
     "iopub.status.busy": "2024-03-05T16:43:28.127318Z",
     "iopub.status.idle": "2024-03-05T16:43:28.301751Z",
     "shell.execute_reply": "2024-03-05T16:43:28.297477Z",
     "shell.execute_reply.started": "2024-03-05T16:43:28.127837Z"
    }
   },
   "outputs": [],
   "source": [
    "# Load Data\n",
    "X_df_FULL = pd.read_csv(\"data/X_df.csv\", index_col=0)\n",
    "y_df_FULL = pd.read_csv(\"data/y_df.csv\", index_col=0)"
   ]
  },
  {
   "cell_type": "code",
   "execution_count": 4,
   "id": "553ee405-1271-466b-91fc-f9e5653eca55",
   "metadata": {
    "execution": {
     "iopub.execute_input": "2024-03-05T16:43:28.310027Z",
     "iopub.status.busy": "2024-03-05T16:43:28.309507Z",
     "iopub.status.idle": "2024-03-05T16:43:28.315106Z",
     "shell.execute_reply": "2024-03-05T16:43:28.314791Z",
     "shell.execute_reply.started": "2024-03-05T16:43:28.310010Z"
    }
   },
   "outputs": [
    {
     "name": "stdout",
     "output_type": "stream",
     "text": [
      "36\n"
     ]
    }
   ],
   "source": [
    "# Remove features to be dropped from previous notebook\n",
    "with open(os.path.join(\"results\", results_subfolder, \"drop_features.txt\")) as f:\n",
    "    bad_features = json.load(f)  # manually selected\n",
    "\n",
    "X_df_FULL = X_df_FULL.drop(bad_features, axis=1)\n",
    "\n",
    "print(X_df_FULL.shape[1])"
   ]
  },
  {
   "cell_type": "code",
   "execution_count": 5,
   "id": "6ad41990-3da2-4b3c-b887-2147985a55a0",
   "metadata": {
    "execution": {
     "iopub.execute_input": "2024-03-05T16:43:28.318003Z",
     "iopub.status.busy": "2024-03-05T16:43:28.317153Z",
     "iopub.status.idle": "2024-03-05T16:43:28.322305Z",
     "shell.execute_reply": "2024-03-05T16:43:28.321942Z",
     "shell.execute_reply.started": "2024-03-05T16:43:28.317985Z"
    }
   },
   "outputs": [],
   "source": [
    "# Keep only current classes\n",
    "cl_keep_str = \"_\".join(classes_to_keep)\n",
    "\n",
    "y_df = y_df_FULL[y_df_FULL[\"class\"].isin(classes_to_keep)]\n",
    "X_df = X_df_FULL.loc[y_df.index]\n",
    "X = X_df.to_numpy()\n",
    "y = y_df.to_numpy().ravel()"
   ]
  },
  {
   "cell_type": "code",
   "execution_count": 6,
   "id": "595e402f-9046-480b-b2f9-808943608688",
   "metadata": {
    "execution": {
     "iopub.execute_input": "2024-03-05T16:43:28.325903Z",
     "iopub.status.busy": "2024-03-05T16:43:28.325542Z",
     "iopub.status.idle": "2024-03-05T16:43:28.364429Z",
     "shell.execute_reply": "2024-03-05T16:43:28.345745Z",
     "shell.execute_reply.started": "2024-03-05T16:43:28.325885Z"
    },
    "tags": []
   },
   "outputs": [],
   "source": [
    "with open(os.path.join(\"results\", results_subfolder, \"best_common_features.txt\")) as f:\n",
    "    best_common_features = json.load(f)"
   ]
  },
  {
   "cell_type": "code",
   "execution_count": 7,
   "id": "0f54487d-597a-4efa-953b-60dfc4db4677",
   "metadata": {
    "execution": {
     "iopub.execute_input": "2024-03-05T16:43:28.380859Z",
     "iopub.status.busy": "2024-03-05T16:43:28.378512Z",
     "iopub.status.idle": "2024-03-05T16:43:28.449557Z",
     "shell.execute_reply": "2024-03-05T16:43:28.436985Z",
     "shell.execute_reply.started": "2024-03-05T16:43:28.380838Z"
    },
    "tags": []
   },
   "outputs": [],
   "source": [
    "all_metrics = [\"euclidean\", \"jaccard\", \"hellinger\"]  # best metric"
   ]
  },
  {
   "cell_type": "code",
   "execution_count": 8,
   "id": "16e1b9ad-48af-48ea-9683-e12eb915372e",
   "metadata": {
    "execution": {
     "iopub.execute_input": "2024-03-05T16:43:28.452782Z",
     "iopub.status.busy": "2024-03-05T16:43:28.452653Z",
     "iopub.status.idle": "2024-03-05T16:43:28.461188Z",
     "shell.execute_reply": "2024-03-05T16:43:28.458630Z",
     "shell.execute_reply.started": "2024-03-05T16:43:28.452773Z"
    }
   },
   "outputs": [],
   "source": [
    "from IPython.display import display, HTML\n",
    "\n",
    "filepath1 = os.path.join(\n",
    "    \"results\",\n",
    "    results_subfolder,\n",
    "    \"distclassipy\",\n",
    "    \"clark\",\n",
    "    \"sfs_best_confusion_matrix.pdf\",\n",
    ")\n",
    "filepath2 = os.path.join(\n",
    "    \"results\",\n",
    "    results_subfolder,\n",
    "    \"distclassipy\",\n",
    "    \"canberra\",\n",
    "    \"sfs_best_confusion_matrix.pdf\",\n",
    ")\n",
    "\n",
    "html_str = f\"\"\"\n",
    "<div style='width: 100%; display: flex;'>\n",
    "    <iframe src='{filepath1}' width='50%' height='500'></iframe>\n",
    "    <iframe src='{filepath2}' width='50%' height='500'></iframe>\n",
    "</div>\n",
    "\"\"\""
   ]
  },
  {
   "cell_type": "code",
   "execution_count": 9,
   "id": "2653fd0d-c8f0-47d9-bd93-ad942ea5fd84",
   "metadata": {
    "execution": {
     "iopub.execute_input": "2024-03-05T16:43:28.462351Z",
     "iopub.status.busy": "2024-03-05T16:43:28.462242Z",
     "iopub.status.idle": "2024-03-05T16:43:28.471541Z",
     "shell.execute_reply": "2024-03-05T16:43:28.468800Z",
     "shell.execute_reply.started": "2024-03-05T16:43:28.462342Z"
    }
   },
   "outputs": [
    {
     "data": {
      "text/plain": [
       "{'RSCVN': 480, 'BYDra': 500}"
      ]
     },
     "execution_count": 9,
     "metadata": {},
     "output_type": "execute_result"
    }
   ],
   "source": [
    "table1 = {\"RSCVN\": 81393, \"BYDra\": 84697}\n",
    "total = sum(table1.values())\n",
    "table1_ratio = {key: value / total for key, value in table1.items()}\n",
    "max_ratio = max(table1_ratio.values())\n",
    "sample_sizes = {\n",
    "    key: int(500 * value / max_ratio) for key, value in table1_ratio.items()\n",
    "}\n",
    "sample_sizes"
   ]
  },
  {
   "cell_type": "code",
   "execution_count": 10,
   "id": "338db769-9fdc-4e1c-97cd-b067259b3936",
   "metadata": {
    "execution": {
     "iopub.execute_input": "2024-03-05T16:43:28.473260Z",
     "iopub.status.busy": "2024-03-05T16:43:28.473037Z",
     "iopub.status.idle": "2024-03-05T16:43:29.944216Z",
     "shell.execute_reply": "2024-03-05T16:43:29.941478Z",
     "shell.execute_reply.started": "2024-03-05T16:43:28.473249Z"
    },
    "tags": []
   },
   "outputs": [
    {
     "data": {
      "application/vnd.jupyter.widget-view+json": {
       "model_id": "6b6c27adcae54c9582bfc99ee70f8fe1",
       "version_major": 2,
       "version_minor": 0
      },
      "text/plain": [
       "  0%|          | 0/3 [00:00<?, ?it/s]"
      ]
     },
     "metadata": {},
     "output_type": "display_data"
    },
    {
     "name": "stdout",
     "output_type": "stream",
     "text": [
      "Euclidean\n",
      "\tExpected Score from training:\n",
      "\t\tF1 = 67.90 ± 4.43%\n",
      "\tActual score on hidden set:\n",
      "\t\tF1 = 68.23 %\n"
     ]
    },
    {
     "data": {
      "image/png": "[encoded data removed]",
      "text/plain": [
       "<Figure size 640x480 with 1 Axes>"
      ]
     },
     "metadata": {},
     "output_type": "display_data"
    },
    {
     "name": "stdout",
     "output_type": "stream",
     "text": [
      "Jaccard\n",
      "\tExpected Score from training:\n",
      "\t\tF1 = 67.61 ± 4.69%\n",
      "\tActual score on hidden set:\n",
      "\t\tF1 = 68.21 %\n"
     ]
    },
    {
     "data": {
      "image/png": "[encoded data removed]",
      "text/plain": [
       "<Figure size 640x480 with 1 Axes>"
      ]
     },
     "metadata": {},
     "output_type": "display_data"
    },
    {
     "name": "stdout",
     "output_type": "stream",
     "text": [
      "Hellinger\n",
      "\tExpected Score from training:\n",
      "\t\tF1 = 67.60 ± 3.98%\n",
      "\tActual score on hidden set:\n",
      "\t\tF1 = 68.44 %\n"
     ]
    },
    {
     "data": {
      "image/png": "[encoded data removed]",
      "text/plain": [
       "<Figure size 640x480 with 1 Axes>"
      ]
     },
     "metadata": {},
     "output_type": "display_data"
    }
   ],
   "source": [
    "for metric in tqdm(all_metrics):\n",
    "    metric_str = utils.get_metric_name(metric)\n",
    "    locpath = os.path.join(\"results\", results_subfolder, \"distclassipy\", metric_str)\n",
    "    print(f\"{metric_str.title()}\")\n",
    "\n",
    "    sfs_df = pd.read_csv(os.path.join(locpath, \"sfs_allfeatures.csv\"), index_col=0)\n",
    "    feats_idx, feats = utils.load_best_features(sfs_df)\n",
    "\n",
    "    lcdc = dcpy.DistanceMetricClassifier(\n",
    "        metric=metric,\n",
    "        scale=True,\n",
    "        central_stat=settings_dict[\"central_stat\"],\n",
    "        dispersion_stat=settings_dict[\"dispersion_stat\"],\n",
    "        calculate_kde=False,\n",
    "        calculate_1d_dist=False,\n",
    "    )\n",
    "\n",
    "    X_df = X_df_FULL.loc[y_df.index]\n",
    "\n",
    "    X_df = X_df.loc[:, feats]\n",
    "\n",
    "    X = X_df.to_numpy()\n",
    "    y = y_df.to_numpy().ravel()\n",
    "\n",
    "    lcdc.fit(X, y)\n",
    "\n",
    "    HIDDENX_df = pd.read_csv(\"data/HIDDENX_df_binary.csv\", index_col=0)\n",
    "    HIDDENX_df = HIDDENX_df.loc[:, X_df.columns]\n",
    "    HIDDENX_df = HIDDENX_df.dropna()\n",
    "\n",
    "    HIDDENy_df = pd.read_csv(\"data/HIDDENy_df_binary.csv\", index_col=0)\n",
    "    HIDDENy_df = HIDDENy_df.loc[HIDDENX_df.index]\n",
    "\n",
    "    # RESAMPLE TO BE OF RATIO OF REAL WORLD\n",
    "    HIDDENy_df_resampled = []\n",
    "    for cl, subdf in HIDDENy_df.groupby(\"class\"):\n",
    "        HIDDENy_df_resampled.append(\n",
    "            subdf.sample(n=sample_sizes[cl], random_state=settings_dict[\"seed_choice\"])\n",
    "        )\n",
    "\n",
    "    HIDDENy_df = pd.concat(HIDDENy_df_resampled).sample(\n",
    "        frac=1, random_state=settings_dict[\"seed_choice\"]\n",
    "    )\n",
    "    HIDDENX_df = HIDDENX_df.loc[HIDDENy_df.index]\n",
    "    HIDDENy_df = HIDDENy_df.loc[HIDDENX_df.index]\n",
    "\n",
    "    HIDDENX_df = HIDDENX_df.loc[:, feats]\n",
    "    HIDDENX_df = HIDDENX_df.dropna()\n",
    "    HIDDENy_df = HIDDENy_df.loc[HIDDENX_df.index]\n",
    "\n",
    "    HIDDENX = HIDDENX_df.to_numpy()\n",
    "    HIDDENy = HIDDENy_df.to_numpy().ravel()\n",
    "\n",
    "    HIDDENy_pred = lcdc.predict_and_analyse(HIDDENX)\n",
    "\n",
    "    acc = accuracy_score(y_true=HIDDENy, y_pred=HIDDENy_pred)\n",
    "    f1score = f1_score(y_true=HIDDENy, y_pred=HIDDENy_pred, average=\"macro\")\n",
    "    matthew_coef = matthews_corrcoef(y_true=HIDDENy, y_pred=HIDDENy_pred)\n",
    "\n",
    "    print(\"\\tExpected Score from training:\")\n",
    "    print(\n",
    "        f\"\\t\\tF1 = {sfs_df.loc[len(feats)]['avg_score']*100:.2f} ± {sfs_df.loc[len(feats)]['std_dev']*100:.2f}%\"\n",
    "    )\n",
    "    print(\"\\tActual score on hidden set:\")\n",
    "    # print(f\"\\tAcc = {100*acc:.2f} %\")\n",
    "    print(f\"\\t\\tF1 = {100*f1score:.2f} %\")\n",
    "\n",
    "    ax = utils.plot_cm(y_true=HIDDENy, y_pred=HIDDENy_pred)\n",
    "    plt.title(f\"{metric_str.title()} metric (hidden set)\")\n",
    "    plt.savefig(os.path.join(locpath, \"hidden_cm.pdf\"), bbox_inches=\"tight\")\n",
    "    # plt.savefig(f\"hidden_cm/{metric_str}.pdf\",bbox_inches = 'tight')\n",
    "    plt.show()"
   ]
  },
  {
   "cell_type": "code",
   "execution_count": 11,
   "id": "ad608603-0d74-463f-a117-f3ec8e3e6ecf",
   "metadata": {
    "execution": {
     "iopub.execute_input": "2024-03-05T16:43:29.947214Z",
     "iopub.status.busy": "2024-03-05T16:43:29.946057Z",
     "iopub.status.idle": "2024-03-05T16:43:30.001143Z",
     "shell.execute_reply": "2024-03-05T16:43:29.985239Z",
     "shell.execute_reply.started": "2024-03-05T16:43:29.947181Z"
    }
   },
   "outputs": [
    {
     "data": {
      "text/plain": [
       "{('BYDra',): 500, ('RSCVN',): 480}"
      ]
     },
     "execution_count": 11,
     "metadata": {},
     "output_type": "execute_result"
    }
   ],
   "source": [
    "dict(HIDDENy_df.value_counts())"
   ]
  },
  {
   "cell_type": "code",
   "execution_count": 12,
   "id": "f4d3a643-2060-4dc5-9f93-7008afff74ae",
   "metadata": {
    "execution": {
     "iopub.execute_input": "2024-03-05T16:43:30.014542Z",
     "iopub.status.busy": "2024-03-05T16:43:30.009081Z",
     "iopub.status.idle": "2024-03-05T16:43:30.020726Z",
     "shell.execute_reply": "2024-03-05T16:43:30.020332Z",
     "shell.execute_reply.started": "2024-03-05T16:43:30.014496Z"
    }
   },
   "outputs": [
    {
     "data": {
      "text/html": [
       "\n",
       "<div style='width: 100%; display: flex;'>\n",
       "    <iframe src='results/b. binary/distclassipy/clark/sfs_best_confusion_matrix.pdf' width='50%' height='500'></iframe>\n",
       "    <iframe src='results/b. binary/distclassipy/canberra/sfs_best_confusion_matrix.pdf' width='50%' height='500'></iframe>\n",
       "</div>\n"
      ],
      "text/plain": [
       "<IPython.core.display.HTML object>"
      ]
     },
     "metadata": {},
     "output_type": "display_data"
    }
   ],
   "source": [
    "display(HTML(html_str))"
   ]
  },
  {
   "cell_type": "code",
   "execution_count": 13,
   "id": "4d1c906e-cfe7-4972-80ed-f26b90032e86",
   "metadata": {
    "execution": {
     "iopub.execute_input": "2024-03-05T16:43:30.023880Z",
     "iopub.status.busy": "2024-03-05T16:43:30.022829Z",
     "iopub.status.idle": "2024-03-05T16:43:30.032344Z",
     "shell.execute_reply": "2024-03-05T16:43:30.031390Z",
     "shell.execute_reply.started": "2024-03-05T16:43:30.023842Z"
    }
   },
   "outputs": [
    {
     "data": {
      "text/plain": [
       "class\n",
       "BYDra    500\n",
       "RSCVN    480\n",
       "Name: count, dtype: int64"
      ]
     },
     "execution_count": 13,
     "metadata": {},
     "output_type": "execute_result"
    }
   ],
   "source": [
    "HIDDENy_df.value_counts()"
   ]
  },
  {
   "cell_type": "code",
   "execution_count": 14,
   "id": "ad7f2f86-ac2e-420a-88f8-c89f545a92f1",
   "metadata": {
    "execution": {
     "iopub.execute_input": "2024-03-05T16:43:30.033777Z",
     "iopub.status.busy": "2024-03-05T16:43:30.033597Z",
     "iopub.status.idle": "2024-03-05T16:43:30.041308Z",
     "shell.execute_reply": "2024-03-05T16:43:30.041058Z",
     "shell.execute_reply.started": "2024-03-05T16:43:30.033766Z"
    }
   },
   "outputs": [
    {
     "data": {
      "text/html": [
       "<div>\n",
       "<style scoped>\n",
       "    .dataframe tbody tr th:only-of-type {\n",
       "        vertical-align: middle;\n",
       "    }\n",
       "\n",
       "    .dataframe tbody tr th {\n",
       "        vertical-align: top;\n",
       "    }\n",
       "\n",
       "    .dataframe thead th {\n",
       "        text-align: right;\n",
       "    }\n",
       "</style>\n",
       "<table border=\"1\" class=\"dataframe\">\n",
       "  <thead>\n",
       "    <tr style=\"text-align: right;\">\n",
       "      <th></th>\n",
       "      <th>class</th>\n",
       "    </tr>\n",
       "    <tr>\n",
       "      <th>oid</th>\n",
       "      <th></th>\n",
       "    </tr>\n",
       "  </thead>\n",
       "  <tbody>\n",
       "    <tr>\n",
       "      <th>528729</th>\n",
       "      <td>BYDra</td>\n",
       "    </tr>\n",
       "    <tr>\n",
       "      <th>442140</th>\n",
       "      <td>BYDra</td>\n",
       "    </tr>\n",
       "    <tr>\n",
       "      <th>105804</th>\n",
       "      <td>RSCVN</td>\n",
       "    </tr>\n",
       "    <tr>\n",
       "      <th>703702</th>\n",
       "      <td>BYDra</td>\n",
       "    </tr>\n",
       "    <tr>\n",
       "      <th>472748</th>\n",
       "      <td>RSCVN</td>\n",
       "    </tr>\n",
       "    <tr>\n",
       "      <th>...</th>\n",
       "      <td>...</td>\n",
       "    </tr>\n",
       "    <tr>\n",
       "      <th>49442</th>\n",
       "      <td>RSCVN</td>\n",
       "    </tr>\n",
       "    <tr>\n",
       "      <th>750375</th>\n",
       "      <td>BYDra</td>\n",
       "    </tr>\n",
       "    <tr>\n",
       "      <th>137885</th>\n",
       "      <td>RSCVN</td>\n",
       "    </tr>\n",
       "    <tr>\n",
       "      <th>322790</th>\n",
       "      <td>BYDra</td>\n",
       "    </tr>\n",
       "    <tr>\n",
       "      <th>83912</th>\n",
       "      <td>RSCVN</td>\n",
       "    </tr>\n",
       "  </tbody>\n",
       "</table>\n",
       "<p>980 rows × 1 columns</p>\n",
       "</div>"
      ],
      "text/plain": [
       "        class\n",
       "oid          \n",
       "528729  BYDra\n",
       "442140  BYDra\n",
       "105804  RSCVN\n",
       "703702  BYDra\n",
       "472748  RSCVN\n",
       "...       ...\n",
       "49442   RSCVN\n",
       "750375  BYDra\n",
       "137885  RSCVN\n",
       "322790  BYDra\n",
       "83912   RSCVN\n",
       "\n",
       "[980 rows x 1 columns]"
      ]
     },
     "execution_count": 14,
     "metadata": {},
     "output_type": "execute_result"
    }
   ],
   "source": [
    "HIDDENy_df"
   ]
  },
  {
   "cell_type": "code",
   "execution_count": null,
   "id": "a9020586-be46-445b-947b-79967f9b7801",
   "metadata": {},
   "outputs": [],
   "source": []
  }
 ],
 "metadata": {
  "kernelspec": {
   "display_name": "Python 3 (ipykernel)",
   "language": "python",
   "name": "python3"
  },
  "language_info": {
   "codemirror_mode": {
    "name": "ipython",
    "version": 3
   },
   "file_extension": ".py",
   "mimetype": "text/x-python",
   "name": "python",
   "nbconvert_exporter": "python",
   "pygments_lexer": "ipython3",
   "version": "3.12.2"
  }
 },
 "nbformat": 4,
 "nbformat_minor": 5
}
