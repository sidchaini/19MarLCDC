{
 "cells": [
  {
   "cell_type": "code",
   "execution_count": 1,
   "id": "136719a7-2bf5-4e41-9810-3b4b75c8fa2b",
   "metadata": {
    "execution": {
     "iopub.execute_input": "2024-03-02T17:17:11.235783Z",
     "iopub.status.busy": "2024-03-02T17:17:11.235350Z",
     "iopub.status.idle": "2024-03-02T17:17:12.567732Z",
     "shell.execute_reply": "2024-03-02T17:17:12.567422Z",
     "shell.execute_reply.started": "2024-03-02T17:17:11.235753Z"
    }
   },
   "outputs": [],
   "source": [
    "import pandas as pd\n",
    "import os\n",
    "import sys\n",
    "import numpy as np\n",
    "import wget\n",
    "import matplotlib.pyplot as plt\n",
    "from tqdm.auto import tqdm\n",
    "\n",
    "import sys\n",
    "\n",
    "sys.path.append(\"scripts/\")\n",
    "\n",
    "import utils\n",
    "\n",
    "import json\n",
    "\n",
    "with open(\"settings.txt\") as f:\n",
    "    settings_dict = json.load(f)\n",
    "np.random.seed(settings_dict[\"seed_choice\"])\n",
    "\n",
    "# sns_dict = settings_dict[\"sns_dict\"]\n",
    "# sns.set_theme(**sns_dict)"
   ]
  },
  {
   "cell_type": "code",
   "execution_count": 2,
   "id": "4d5478e8-60d4-4924-b976-5aee21d553ed",
   "metadata": {
    "execution": {
     "iopub.execute_input": "2024-03-02T17:17:13.440513Z",
     "iopub.status.busy": "2024-03-02T17:17:13.439705Z",
     "iopub.status.idle": "2024-03-02T17:17:14.759244Z",
     "shell.execute_reply": "2024-03-02T17:17:14.758836Z",
     "shell.execute_reply.started": "2024-03-02T17:17:13.440480Z"
    }
   },
   "outputs": [],
   "source": [
    "chen_cols = [\n",
    "    \"ID\",\n",
    "    \"SourceID\",\n",
    "    \"RAdeg\",\n",
    "    \"DEdeg\",\n",
    "    \"Per\",\n",
    "    \"R21\",\n",
    "    \"phi21\",\n",
    "    \"T_0\",\n",
    "    \"gmag\",\n",
    "    \"rmag\",\n",
    "    \"Per_g\",\n",
    "    \"Per_r\",\n",
    "    \"Num_g\",\n",
    "    \"Num_r\",\n",
    "    \"R21_g\",\n",
    "    \"R21_r\",\n",
    "    \"phi21_g\",\n",
    "    \"phi21_r\",\n",
    "    \"R^2_g\",\n",
    "    \"R^2_r\",\n",
    "    \"Amp_g\",\n",
    "    \"Amp_r\",\n",
    "    \"log(FAP_g)\",\n",
    "    \"log(FAP_r)\",\n",
    "    \"Type\",\n",
    "    \"213-elta_min_g\",\n",
    "    \"219-elta_min_r\",\n",
    "]\n",
    "\n",
    "chenfeatures_df = pd.read_table(\n",
    "    \"data/Table2.txt\",\n",
    "    sep=\" \",\n",
    "    header=None,\n",
    "    skipinitialspace=True,\n",
    "    skiprows=34,\n",
    "    names=chen_cols,\n",
    "    index_col=1,\n",
    ")\n",
    "\n",
    "chenfeatures_df = chenfeatures_df.dropna()\n",
    "\n",
    "# chenfeatures_df = chenfeatures_df.drop(\n",
    "#     [\n",
    "#         # Irrelevant:\n",
    "#         \"ID\",\n",
    "#         \"RAdeg\",\n",
    "#         \"DEdeg\",\n",
    "#         \"T_0\",\n",
    "#         \"Num_g\",\n",
    "#         \"Num_r\",\n",
    "#         # Redundant:\n",
    "#         \"Per\",\n",
    "#         \"Per_g\",\n",
    "#         \"Per_r\",\n",
    "#         \"rmag\",\n",
    "#         \"gmag\",\n",
    "#         \"Amp_g\",\n",
    "#         \"Amp_r\",\n",
    "#         \"phi21\",\n",
    "#         \"R21\",\n",
    "#     ],\n",
    "#     axis=1,\n",
    "# )\n",
    "\n",
    "class_df = chenfeatures_df[[\"Type\"]]\n",
    "chenfeatures_df = chenfeatures_df.drop([\"Type\"], axis=1)"
   ]
  },
  {
   "cell_type": "code",
   "execution_count": 3,
   "id": "2bf1a70a-5ee5-4769-8e98-b3dbf515aa1d",
   "metadata": {
    "execution": {
     "iopub.execute_input": "2024-03-02T17:17:14.760129Z",
     "iopub.status.busy": "2024-03-02T17:17:14.759944Z",
     "iopub.status.idle": "2024-03-02T17:17:14.886417Z",
     "shell.execute_reply": "2024-03-02T17:17:14.886067Z",
     "shell.execute_reply.started": "2024-03-02T17:17:14.760034Z"
    }
   },
   "outputs": [],
   "source": [
    "all_classes = [\"RSCVN\", \"BYDra\", \"DSCT\", \"EA\", \"EW\", \"RRc\", \"RR\", \"SR\", \"CEP\", \"Mira\"]\n",
    "class_df = class_df[class_df[\"Type\"].isin(all_classes)]\n",
    "class_df = (\n",
    "    class_df.groupby(\"Type\", group_keys=True)\n",
    "    .apply(lambda x: x.sample(n=1200), include_groups=False)\n",
    "    .reset_index()\n",
    "    .set_index(\"SourceID\")\n",
    ")\n",
    "\n",
    "chenfeatures_df = chenfeatures_df.loc[class_df.index]"
   ]
  },
  {
   "cell_type": "code",
   "execution_count": 4,
   "id": "ce9d2a8d-d0e2-4a32-b1f5-4e6d75821e8d",
   "metadata": {
    "execution": {
     "iopub.execute_input": "2024-03-02T17:17:14.886854Z",
     "iopub.status.busy": "2024-03-02T17:17:14.886775Z",
     "iopub.status.idle": "2024-03-02T17:17:14.897850Z",
     "shell.execute_reply": "2024-03-02T17:17:14.897499Z",
     "shell.execute_reply.started": "2024-03-02T17:17:14.886845Z"
    }
   },
   "outputs": [
    {
     "data": {
      "text/plain": [
       "Type \n",
       "BYDra    1200\n",
       "CEP      1200\n",
       "DSCT     1200\n",
       "EA       1200\n",
       "EW       1200\n",
       "Mira     1200\n",
       "RR       1200\n",
       "RRc      1200\n",
       "RSCVN    1200\n",
       "SR       1200\n",
       "Name: count, dtype: int64"
      ]
     },
     "execution_count": 4,
     "metadata": {},
     "output_type": "execute_result"
    }
   ],
   "source": [
    "class_df.value_counts()"
   ]
  },
  {
   "cell_type": "code",
   "execution_count": 5,
   "id": "381142aa-abe8-4e3a-a3a4-0343d04e3d81",
   "metadata": {
    "execution": {
     "iopub.execute_input": "2024-03-02T17:17:14.899649Z",
     "iopub.status.busy": "2024-03-02T17:17:14.899209Z",
     "iopub.status.idle": "2024-03-02T17:17:15.008334Z",
     "shell.execute_reply": "2024-03-02T17:17:15.008053Z",
     "shell.execute_reply.started": "2024-03-02T17:17:14.899636Z"
    }
   },
   "outputs": [],
   "source": [
    "chenfeatures_df.to_csv(\"data/chenfeatures_df.csv\")"
   ]
  },
  {
   "cell_type": "code",
   "execution_count": 7,
   "id": "9aa0fe7a-c3b9-431e-b435-048746184b57",
   "metadata": {
    "execution": {
     "iopub.execute_input": "2024-03-02T16:56:45.375117Z",
     "iopub.status.busy": "2024-03-02T16:56:45.374738Z",
     "iopub.status.idle": "2024-03-02T16:56:45.394565Z",
     "shell.execute_reply": "2024-03-02T16:56:45.393795Z",
     "shell.execute_reply.started": "2024-03-02T16:56:45.375087Z"
    }
   },
   "outputs": [],
   "source": [
    "subcatalog = pd.read_csv(\"data/chenfeatures_df.csv\", index_col=0)\n",
    "oids = subcatalog.index.to_numpy()"
   ]
  },
  {
   "cell_type": "code",
   "execution_count": 13,
   "id": "f03914b5-05a4-4893-b576-dd0528b4f307",
   "metadata": {
    "execution": {
     "iopub.execute_input": "2024-03-02T17:02:21.133536Z",
     "iopub.status.busy": "2024-03-02T17:02:21.132868Z",
     "iopub.status.idle": "2024-03-02T17:02:21.141594Z",
     "shell.execute_reply": "2024-03-02T17:02:21.138622Z",
     "shell.execute_reply.started": "2024-03-02T17:02:21.133505Z"
    }
   },
   "outputs": [],
   "source": [
    "import os\n",
    "import shutil\n",
    "\n",
    "dl_directory = \"data/lightcurves/\"\n",
    "old_directory = (\n",
    "    \"/Users/sidchaini/Research/LCDistanceMetrics/phoenix/ztf_download/ztfdata/\"\n",
    ")"
   ]
  },
  {
   "cell_type": "code",
   "execution_count": 16,
   "id": "a809b5cc-fc67-41ff-a672-34539f466bfc",
   "metadata": {
    "execution": {
     "iopub.execute_input": "2024-03-02T17:02:58.635537Z",
     "iopub.status.busy": "2024-03-02T17:02:58.633082Z",
     "iopub.status.idle": "2024-03-02T17:02:59.582320Z",
     "shell.execute_reply": "2024-03-02T17:02:59.582048Z",
     "shell.execute_reply.started": "2024-03-02T17:02:58.635469Z"
    }
   },
   "outputs": [
    {
     "data": {
      "application/vnd.jupyter.widget-view+json": {
       "model_id": "ac6c7bde61114f06887f48c481b5f65b",
       "version_major": 2,
       "version_minor": 0
      },
      "text/plain": [
       "  0%|          | 0/12000 [00:00<?, ?it/s]"
      ]
     },
     "metadata": {},
     "output_type": "display_data"
    }
   ],
   "source": [
    "old_oids_files = os.listdir(old_directory)\n",
    "old_oids = [\n",
    "    filename.split(\".\")[0] for filename in old_oids_files if filename.endswith(\".csv\")\n",
    "]\n",
    "\n",
    "# Initialize lists to hold the categorized oids\n",
    "oids_present = []\n",
    "oids_absent = []\n",
    "\n",
    "# Check each oid and categorize\n",
    "for oid in tqdm(oids):\n",
    "    if str(oid) in old_oids:\n",
    "        oids_present.append(oid)\n",
    "        # Copy the file to the current directory\n",
    "        shutil.copy(os.path.join(old_directory, f\"{oid}.csv\"), dl_directory)\n",
    "    else:\n",
    "        oids_absent.append(oid)"
   ]
  },
  {
   "cell_type": "code",
   "execution_count": 20,
   "id": "1be8579c-6f86-462d-ad6b-fb4e5ecc360b",
   "metadata": {
    "execution": {
     "iopub.execute_input": "2024-03-02T17:06:19.102553Z",
     "iopub.status.busy": "2024-03-02T17:06:19.101476Z",
     "iopub.status.idle": "2024-03-02T17:06:19.120047Z",
     "shell.execute_reply": "2024-03-02T17:06:19.119242Z",
     "shell.execute_reply.started": "2024-03-02T17:06:19.102490Z"
    }
   },
   "outputs": [
    {
     "data": {
      "text/plain": [
       "11243"
      ]
     },
     "execution_count": 20,
     "metadata": {},
     "output_type": "execute_result"
    }
   ],
   "source": [
    "len(oids_absent)"
   ]
  },
  {
   "cell_type": "code",
   "execution_count": 11,
   "id": "d73897fd-72e2-4b35-afb3-0d7920a38cc3",
   "metadata": {
    "execution": {
     "iopub.execute_input": "2024-03-02T16:57:05.624629Z",
     "iopub.status.busy": "2024-03-02T16:57:05.623652Z",
     "iopub.status.idle": "2024-03-02T16:57:05.635431Z",
     "shell.execute_reply": "2024-03-02T16:57:05.634293Z",
     "shell.execute_reply.started": "2024-03-02T16:57:05.624580Z"
    }
   },
   "outputs": [
    {
     "data": {
      "text/plain": [
       "array([770605,  19982,  29930, ..., 407848, 780022, 370338])"
      ]
     },
     "execution_count": 11,
     "metadata": {},
     "output_type": "execute_result"
    }
   ],
   "source": [
    "# oids_present contains oids already in the old directory and copied over\n",
    "# oids_absent contains oids not found in the old directory"
   ]
  },
  {
   "cell_type": "code",
   "execution_count": null,
   "id": "5957be0e-0182-43ca-9ac5-a68dd4a6321a",
   "metadata": {},
   "outputs": [],
   "source": []
  }
 ],
 "metadata": {
  "kernelspec": {
   "display_name": "Python 3 (ipykernel)",
   "language": "python",
   "name": "python3"
  },
  "language_info": {
   "codemirror_mode": {
    "name": "ipython",
    "version": 3
   },
   "file_extension": ".py",
   "mimetype": "text/x-python",
   "name": "python",
   "nbconvert_exporter": "python",
   "pygments_lexer": "ipython3",
   "version": "3.12.2"
  }
 },
 "nbformat": 4,
 "nbformat_minor": 5
}
