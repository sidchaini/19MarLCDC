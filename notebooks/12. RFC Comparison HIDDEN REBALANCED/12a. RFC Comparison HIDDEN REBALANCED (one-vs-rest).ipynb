{
 "cells": [
  {
   "cell_type": "code",
   "execution_count": 1,
   "id": "6fd60258-b88d-42bc-adc8-7d760c50cb58",
   "metadata": {
    "execution": {
     "iopub.execute_input": "2024-03-05T17:22:28.643098Z",
     "iopub.status.busy": "2024-03-05T17:22:28.642257Z",
     "iopub.status.idle": "2024-03-05T17:22:29.822694Z",
     "shell.execute_reply": "2024-03-05T17:22:29.822361Z",
     "shell.execute_reply.started": "2024-03-05T17:22:28.643083Z"
    }
   },
   "outputs": [],
   "source": [
    "import numpy as np\n",
    "import pandas as pd\n",
    "from tqdm.auto import tqdm\n",
    "import matplotlib.pyplot as plt\n",
    "import seaborn as sns\n",
    "from mlxtend.feature_selection import (\n",
    "    SequentialFeatureSelector,\n",
    ")\n",
    "from mlxtend.evaluate import feature_importance_permutation\n",
    "from mlxtend.plotting import plot_sequential_feature_selection as plot_sfs\n",
    "from sklearn.utils.estimator_checks import check_estimator\n",
    "from sklearn.ensemble import RandomForestClassifier\n",
    "from sklearn.model_selection import cross_val_predict, train_test_split\n",
    "from sklearn.metrics import accuracy_score, f1_score, matthews_corrcoef\n",
    "import matplotlib.ticker as ticker\n",
    "import os\n",
    "\n",
    "os.chdir(\"../../\")\n",
    "from pathlib import Path\n",
    "import json\n",
    "\n",
    "import sys\n",
    "\n",
    "sys.path.append(\"scripts\")\n",
    "\n",
    "import utils\n",
    "import distclassipy as dcpy\n",
    "\n",
    "cd = dcpy.Distance()"
   ]
  },
  {
   "cell_type": "code",
   "execution_count": 2,
   "id": "6a6ba512-bafa-481b-8bb5-5e6971dd8f2a",
   "metadata": {
    "execution": {
     "iopub.execute_input": "2024-03-05T17:22:29.823288Z",
     "iopub.status.busy": "2024-03-05T17:22:29.823136Z",
     "iopub.status.idle": "2024-03-05T17:22:29.826491Z",
     "shell.execute_reply": "2024-03-05T17:22:29.826114Z",
     "shell.execute_reply.started": "2024-03-05T17:22:29.823276Z"
    }
   },
   "outputs": [],
   "source": [
    "with open(\"settings.txt\") as f:\n",
    "    settings_dict = json.load(f)\n",
    "np.random.seed(settings_dict[\"seed_choice\"])\n",
    "\n",
    "classification_letter = \"a\"\n",
    "classification_problem = settings_dict[\"classification_problem\"][classification_letter]\n",
    "classes_to_keep = settings_dict[\"classes_to_keep\"][classification_letter]\n",
    "results_subfolder = f\"{classification_letter}. {classification_problem}\"\n",
    "sns_dict = settings_dict[\"sns_dict\"]\n",
    "\n",
    "sns.set_theme(**sns_dict)"
   ]
  },
  {
   "cell_type": "code",
   "execution_count": 3,
   "id": "65a31dae-a482-479c-bcdf-1ca4d95badfc",
   "metadata": {
    "execution": {
     "iopub.execute_input": "2024-03-05T17:22:29.827074Z",
     "iopub.status.busy": "2024-03-05T17:22:29.826973Z",
     "iopub.status.idle": "2024-03-05T17:22:29.893308Z",
     "shell.execute_reply": "2024-03-05T17:22:29.893000Z",
     "shell.execute_reply.started": "2024-03-05T17:22:29.827065Z"
    }
   },
   "outputs": [],
   "source": [
    "# Load Data\n",
    "X_df_FULL = pd.read_csv(\"data/X_df.csv\", index_col=0)\n",
    "y_df_FULL = pd.read_csv(\"data/y_df.csv\", index_col=0)"
   ]
  },
  {
   "cell_type": "code",
   "execution_count": 4,
   "id": "71011c80-68da-400a-bbad-f610706a972f",
   "metadata": {
    "execution": {
     "iopub.execute_input": "2024-03-05T17:22:29.893893Z",
     "iopub.status.busy": "2024-03-05T17:22:29.893804Z",
     "iopub.status.idle": "2024-03-05T17:22:29.896875Z",
     "shell.execute_reply": "2024-03-05T17:22:29.896648Z",
     "shell.execute_reply.started": "2024-03-05T17:22:29.893885Z"
    }
   },
   "outputs": [
    {
     "name": "stdout",
     "output_type": "stream",
     "text": [
      "30\n"
     ]
    }
   ],
   "source": [
    "# Remove features to be dropped from previous notebook\n",
    "with open(os.path.join(\"results\", results_subfolder, \"drop_features.txt\")) as f:\n",
    "    bad_features = json.load(f)  # manually selected\n",
    "\n",
    "X_df_FULL = X_df_FULL.drop(bad_features, axis=1)\n",
    "\n",
    "print(X_df_FULL.shape[1])"
   ]
  },
  {
   "cell_type": "code",
   "execution_count": 5,
   "id": "fa5d12e6-d9a6-49fc-824e-99211c3476e8",
   "metadata": {
    "execution": {
     "iopub.execute_input": "2024-03-05T17:22:29.897291Z",
     "iopub.status.busy": "2024-03-05T17:22:29.897206Z",
     "iopub.status.idle": "2024-03-05T17:22:29.906135Z",
     "shell.execute_reply": "2024-03-05T17:22:29.905613Z",
     "shell.execute_reply.started": "2024-03-05T17:22:29.897282Z"
    }
   },
   "outputs": [],
   "source": [
    "# one-vs-rest special\n",
    "posclass_df = y_df_FULL[y_df_FULL[\"class\"].isin(classes_to_keep)]\n",
    "negclass_df = y_df_FULL[~y_df_FULL[\"class\"].isin(classes_to_keep)].sample(\n",
    "    n=len(posclass_df), random_state=settings_dict[\"seed_choice\"]\n",
    ")\n",
    "\n",
    "# negclass_df[\"class\"].value_counts()\n",
    "negclass_df[\"class\"] = f\"Not{classes_to_keep[0]}\"\n",
    "\n",
    "y_df = pd.concat([posclass_df, negclass_df]).sample(\n",
    "    frac=1, random_state=settings_dict[\"seed_choice\"]\n",
    ")  # Shuffle\n",
    "X_df = X_df_FULL.loc[y_df.index]\n",
    "X = X_df.to_numpy()\n",
    "y = y_df.to_numpy().ravel()"
   ]
  },
  {
   "cell_type": "code",
   "execution_count": 6,
   "id": "8babf33e-37f4-4b23-b949-cf8b2bb7bd69",
   "metadata": {
    "execution": {
     "iopub.execute_input": "2024-03-05T17:22:29.909669Z",
     "iopub.status.busy": "2024-03-05T17:22:29.909510Z",
     "iopub.status.idle": "2024-03-05T17:22:29.914398Z",
     "shell.execute_reply": "2024-03-05T17:22:29.913672Z",
     "shell.execute_reply.started": "2024-03-05T17:22:29.909657Z"
    }
   },
   "outputs": [],
   "source": [
    "locpath = os.path.join(\"results\", results_subfolder, \"random forest\")\n",
    "Path(locpath).mkdir(parents=True, exist_ok=True)"
   ]
  },
  {
   "cell_type": "code",
   "execution_count": 7,
   "id": "5b0b362d-dcf8-491e-8265-cd3722776f32",
   "metadata": {
    "execution": {
     "iopub.execute_input": "2024-03-05T17:22:29.916904Z",
     "iopub.status.busy": "2024-03-05T17:22:29.916137Z",
     "iopub.status.idle": "2024-03-05T17:22:30.058912Z",
     "shell.execute_reply": "2024-03-05T17:22:30.058548Z",
     "shell.execute_reply.started": "2024-03-05T17:22:29.916819Z"
    }
   },
   "outputs": [
    {
     "name": "stdout",
     "output_type": "stream",
     "text": [
      "0.9745649263721553\n",
      "0.926829268292683\n"
     ]
    }
   ],
   "source": [
    "# Make sure we're not over fitting\n",
    "\n",
    "from sklearn.model_selection import train_test_split\n",
    "\n",
    "X_train, X_test, y_train, y_test = train_test_split(\n",
    "    X, y, test_size=0.33, stratify=y, random_state=settings_dict[\"seed_choice\"]\n",
    ")\n",
    "\n",
    "rfc = RandomForestClassifier(\n",
    "    random_state=settings_dict[\"seed_choice\"], max_depth=3, n_jobs=-1\n",
    ")\n",
    "# Important to make sure it's not overfitting.\n",
    "rfc.fit(X_train, y_train)\n",
    "print(rfc.score(X_train, y_train))\n",
    "print(rfc.score(X_test, y_test))"
   ]
  },
  {
   "cell_type": "code",
   "execution_count": 8,
   "id": "ba68dd9a-38bf-4ac7-9dbf-6a7ddd899ae0",
   "metadata": {
    "execution": {
     "iopub.execute_input": "2024-03-05T17:22:30.059841Z",
     "iopub.status.busy": "2024-03-05T17:22:30.059647Z",
     "iopub.status.idle": "2024-03-05T17:22:30.916520Z",
     "shell.execute_reply": "2024-03-05T17:22:30.916103Z",
     "shell.execute_reply.started": "2024-03-05T17:22:30.059805Z"
    }
   },
   "outputs": [],
   "source": [
    "y_pred = cross_val_predict(rfc, X, y, cv=5, n_jobs=-1)"
   ]
  },
  {
   "cell_type": "code",
   "execution_count": 9,
   "id": "0b32573a-f843-4de7-a75a-c28ab2fbbe31",
   "metadata": {
    "execution": {
     "iopub.execute_input": "2024-03-05T17:22:30.917580Z",
     "iopub.status.busy": "2024-03-05T17:22:30.917446Z",
     "iopub.status.idle": "2024-03-05T17:22:31.014420Z",
     "shell.execute_reply": "2024-03-05T17:22:31.013743Z",
     "shell.execute_reply.started": "2024-03-05T17:22:30.917567Z"
    }
   },
   "outputs": [
    {
     "name": "stdout",
     "output_type": "stream",
     "text": [
      "F1 = 94.71 %\n",
      "Accuracy = 94.71 %\n",
      "Matthew's Coefficient = 89.43 %\n"
     ]
    },
    {
     "data": {
      "image/png": "[encoded data removed]",
      "text/plain": [
       "<Figure size 640x480 with 1 Axes>"
      ]
     },
     "metadata": {},
     "output_type": "display_data"
    }
   ],
   "source": [
    "acc_train = accuracy_score(y, y_pred)\n",
    "f1score_train = f1_score(y, y_pred, average=\"macro\")\n",
    "matthew_coef_train = matthews_corrcoef(y, y_pred)\n",
    "print(\n",
    "    f\"F1 = {f1score_train*100:.2f} %\\nAccuracy = {acc_train*100:.2f} %\\nMatthew's Coefficient = {matthew_coef_train*100:.2f} %\"\n",
    ")\n",
    "\n",
    "ax = utils.plot_cm(y_true=y, y_pred=y_pred)\n",
    "\n",
    "plt.title(\"Random Forest\")\n",
    "# plt.savefig(os.path.join(locpath, \"confusion_matrix.pdf\"), bbox_inches=\"tight\")\n",
    "plt.show()"
   ]
  },
  {
   "cell_type": "code",
   "execution_count": 10,
   "id": "46a29eb3-a9d5-46b6-ae0e-ef7d7ff33dd4",
   "metadata": {
    "execution": {
     "iopub.execute_input": "2024-03-05T17:22:31.016098Z",
     "iopub.status.busy": "2024-03-05T17:22:31.015741Z",
     "iopub.status.idle": "2024-03-05T17:22:31.048729Z",
     "shell.execute_reply": "2024-03-05T17:22:31.047533Z",
     "shell.execute_reply.started": "2024-03-05T17:22:31.016076Z"
    }
   },
   "outputs": [
    {
     "data": {
      "text/plain": [
       "{'EA': 110,\n",
       " 'EW': 500,\n",
       " 'Mira': 16,\n",
       " 'CEP': 2,\n",
       " 'RSCVN': 110,\n",
       " 'SR': 161,\n",
       " 'DSCT': 22,\n",
       " 'BYDra': 114,\n",
       " 'RRc': 18,\n",
       " 'RR': 43}"
      ]
     },
     "execution_count": 10,
     "metadata": {},
     "output_type": "execute_result"
    }
   ],
   "source": [
    "table1 = {\n",
    "    \"EA\": 81393,\n",
    "    \"EW\": 369707,\n",
    "    \"Mira\": 11879,\n",
    "    \"CEP\": 1610,\n",
    "    \"RSCVN\": 81393,\n",
    "    \"SR\": 119261,\n",
    "    \"DSCT\": 16709,\n",
    "    \"BYDra\": 84697,\n",
    "    \"RRc\": 13875,\n",
    "    \"RR\": 32518,\n",
    "}\n",
    "total = sum(table1.values())\n",
    "table1_ratio = {key: value / total for key, value in table1.items()}\n",
    "max_ratio = max(table1_ratio.values())\n",
    "sample_sizes = {\n",
    "    key: int(500 * value / max_ratio) for key, value in table1_ratio.items()\n",
    "}\n",
    "sample_sizes"
   ]
  },
  {
   "cell_type": "code",
   "execution_count": 11,
   "id": "c68791b9-280c-48f1-8f64-ca981d25138e",
   "metadata": {
    "execution": {
     "iopub.execute_input": "2024-03-05T17:22:31.049788Z",
     "iopub.status.busy": "2024-03-05T17:22:31.049660Z",
     "iopub.status.idle": "2024-03-05T17:22:31.084052Z",
     "shell.execute_reply": "2024-03-05T17:22:31.082630Z",
     "shell.execute_reply.started": "2024-03-05T17:22:31.049776Z"
    }
   },
   "outputs": [
    {
     "data": {
      "text/plain": [
       "986"
      ]
     },
     "execution_count": 11,
     "metadata": {},
     "output_type": "execute_result"
    }
   ],
   "source": [
    "sum(sample_sizes.values()) - 110"
   ]
  },
  {
   "cell_type": "code",
   "execution_count": 12,
   "id": "f36bdb05-ed13-4ab6-bb39-d86b49b53cfa",
   "metadata": {
    "execution": {
     "iopub.execute_input": "2024-03-05T17:22:31.098264Z",
     "iopub.status.busy": "2024-03-05T17:22:31.087123Z",
     "iopub.status.idle": "2024-03-05T17:22:31.113693Z",
     "shell.execute_reply": "2024-03-05T17:22:31.112211Z",
     "shell.execute_reply.started": "2024-03-05T17:22:31.096334Z"
    }
   },
   "outputs": [
    {
     "data": {
      "text/plain": [
       "{'EA': 53, 'NotEA': 483}"
      ]
     },
     "execution_count": 12,
     "metadata": {},
     "output_type": "execute_result"
    }
   ],
   "source": [
    "sample_sizes = {\"EA\": int(110 // 2.04), \"NotEA\": int(986 // 2.04)}\n",
    "sample_sizes"
   ]
  },
  {
   "cell_type": "code",
   "execution_count": 13,
   "id": "60f0345e-2e5e-479a-a047-0549d60faded",
   "metadata": {
    "execution": {
     "iopub.execute_input": "2024-03-05T17:22:31.115902Z",
     "iopub.status.busy": "2024-03-05T17:22:31.114751Z",
     "iopub.status.idle": "2024-03-05T17:22:31.144535Z",
     "shell.execute_reply": "2024-03-05T17:22:31.143575Z",
     "shell.execute_reply.started": "2024-03-05T17:22:31.115885Z"
    }
   },
   "outputs": [],
   "source": [
    "HIDDENX_df = pd.read_csv(\"data/HIDDENX_df_ovr.csv\", index_col=0)\n",
    "HIDDENX_df = HIDDENX_df.loc[:, X_df.columns]\n",
    "HIDDENX_df = HIDDENX_df.dropna()\n",
    "\n",
    "\n",
    "HIDDENy_df = pd.read_csv(\"data/HIDDENy_df_ovr.csv\", index_col=0)\n",
    "HIDDENy_df = HIDDENy_df.loc[HIDDENX_df.index]\n",
    "\n",
    "\n",
    "# RESAMPLE TO BE OF RATIO OF REAL WORLD\n",
    "HIDDENy_df_resampled = []\n",
    "for cl, subdf in HIDDENy_df.groupby(\"class\"):\n",
    "    HIDDENy_df_resampled.append(\n",
    "        subdf.sample(n=sample_sizes[cl], random_state=settings_dict[\"seed_choice\"])\n",
    "    )\n",
    "\n",
    "HIDDENy_df = pd.concat(HIDDENy_df_resampled).sample(\n",
    "    frac=1, random_state=settings_dict[\"seed_choice\"]\n",
    ")\n",
    "HIDDENX_df = HIDDENX_df.loc[HIDDENy_df.index]\n",
    "HIDDENy_df = HIDDENy_df.loc[HIDDENX_df.index]"
   ]
  },
  {
   "cell_type": "code",
   "execution_count": 14,
   "id": "178c4c22-5369-40fd-8eb2-a364597c9f07",
   "metadata": {
    "execution": {
     "iopub.execute_input": "2024-03-05T17:22:31.146267Z",
     "iopub.status.busy": "2024-03-05T17:22:31.145687Z",
     "iopub.status.idle": "2024-03-05T17:22:31.155886Z",
     "shell.execute_reply": "2024-03-05T17:22:31.154677Z",
     "shell.execute_reply.started": "2024-03-05T17:22:31.146244Z"
    }
   },
   "outputs": [
    {
     "data": {
      "text/plain": [
       "class\n",
       "NotEA    483\n",
       "EA        53\n",
       "Name: count, dtype: int64"
      ]
     },
     "execution_count": 14,
     "metadata": {},
     "output_type": "execute_result"
    }
   ],
   "source": [
    "HIDDENy_df.value_counts()"
   ]
  },
  {
   "cell_type": "code",
   "execution_count": 15,
   "id": "25487aaf-4dc1-4bb6-91ae-1da25993b6e2",
   "metadata": {
    "execution": {
     "iopub.execute_input": "2024-03-05T17:22:31.158377Z",
     "iopub.status.busy": "2024-03-05T17:22:31.157495Z",
     "iopub.status.idle": "2024-03-05T17:22:31.164929Z",
     "shell.execute_reply": "2024-03-05T17:22:31.163182Z",
     "shell.execute_reply.started": "2024-03-05T17:22:31.158353Z"
    }
   },
   "outputs": [],
   "source": [
    "HIDDENX = HIDDENX_df.to_numpy()\n",
    "HIDDENy = HIDDENy_df.to_numpy().ravel()"
   ]
  },
  {
   "cell_type": "code",
   "execution_count": 16,
   "id": "3064c4d3-33c5-4ca2-8f3e-8a4aa3765eb1",
   "metadata": {
    "execution": {
     "iopub.execute_input": "2024-03-05T17:22:31.166813Z",
     "iopub.status.busy": "2024-03-05T17:22:31.166626Z",
     "iopub.status.idle": "2024-03-05T17:22:31.192001Z",
     "shell.execute_reply": "2024-03-05T17:22:31.188564Z",
     "shell.execute_reply.started": "2024-03-05T17:22:31.166801Z"
    }
   },
   "outputs": [],
   "source": [
    "rfc_pred = rfc.predict(HIDDENX)"
   ]
  },
  {
   "cell_type": "code",
   "execution_count": 17,
   "id": "a0172698-16ae-4a6c-8d6f-e55b745ccfcf",
   "metadata": {
    "execution": {
     "iopub.execute_input": "2024-03-05T17:22:31.193875Z",
     "iopub.status.busy": "2024-03-05T17:22:31.193247Z",
     "iopub.status.idle": "2024-03-05T17:22:31.342429Z",
     "shell.execute_reply": "2024-03-05T17:22:31.342142Z",
     "shell.execute_reply.started": "2024-03-05T17:22:31.193834Z"
    }
   },
   "outputs": [
    {
     "name": "stdout",
     "output_type": "stream",
     "text": [
      "Random Forest\n",
      "\tExpected Score from training:\n",
      "\t\tF1 ≈ 94.71 %\n",
      "\tActual score on hidden set:\n",
      "\t\tF1 = 90.07 %\n"
     ]
    },
    {
     "data": {
      "image/png": "[encoded data removed]",
      "text/plain": [
       "<Figure size 640x480 with 1 Axes>"
      ]
     },
     "metadata": {},
     "output_type": "display_data"
    }
   ],
   "source": [
    "print(\"Random Forest\")\n",
    "acc = accuracy_score(y_true=HIDDENy, y_pred=rfc_pred)\n",
    "f1score = f1_score(y_true=HIDDENy, y_pred=rfc_pred, average=\"macro\")\n",
    "matthew_coef = matthews_corrcoef(y_true=HIDDENy, y_pred=rfc_pred)\n",
    "\n",
    "print(\"\\tExpected Score from training:\")\n",
    "print(f\"\\t\\tF1 ≈ {100*f1score_train:.2f} %\")\n",
    "\n",
    "print(\"\\tActual score on hidden set:\")\n",
    "# print(f\"\\tAcc = {100*acc:.2f} %\")\n",
    "print(f\"\\t\\tF1 = {100*f1score:.2f} %\")\n",
    "\n",
    "ax = utils.plot_cm(y_true=HIDDENy, y_pred=rfc_pred)\n",
    "plt.title(f\"Random forest (hidden set)\")\n",
    "plt.savefig(os.path.join(locpath, \"hidden_cm.pdf\"), bbox_inches=\"tight\")\n",
    "# plt.savefig(f\"hidden_cm/{metric_str}.pdf\",bbox_inches = 'tight')\n",
    "plt.show()"
   ]
  },
  {
   "cell_type": "code",
   "execution_count": 18,
   "id": "aab49d52-4a43-46ef-a011-992225fc215f",
   "metadata": {
    "execution": {
     "iopub.execute_input": "2024-03-05T17:22:31.343170Z",
     "iopub.status.busy": "2024-03-05T17:22:31.343066Z",
     "iopub.status.idle": "2024-03-05T17:22:31.352596Z",
     "shell.execute_reply": "2024-03-05T17:22:31.351349Z",
     "shell.execute_reply.started": "2024-03-05T17:22:31.343161Z"
    }
   },
   "outputs": [
    {
     "data": {
      "text/plain": [
       "class\n",
       "NotEA    483\n",
       "EA        53\n",
       "Name: count, dtype: int64"
      ]
     },
     "execution_count": 18,
     "metadata": {},
     "output_type": "execute_result"
    }
   ],
   "source": [
    "HIDDENy_df.value_counts()"
   ]
  }
 ],
 "metadata": {
  "kernelspec": {
   "display_name": "Python 3 (ipykernel)",
   "language": "python",
   "name": "python3"
  },
  "language_info": {
   "codemirror_mode": {
    "name": "ipython",
    "version": 3
   },
   "file_extension": ".py",
   "mimetype": "text/x-python",
   "name": "python",
   "nbconvert_exporter": "python",
   "pygments_lexer": "ipython3",
   "version": "3.12.2"
  }
 },
 "nbformat": 4,
 "nbformat_minor": 5
}
