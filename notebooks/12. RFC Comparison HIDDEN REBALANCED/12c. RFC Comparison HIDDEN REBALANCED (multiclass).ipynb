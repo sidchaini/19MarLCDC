{
 "cells": [
  {
   "cell_type": "code",
   "execution_count": 1,
   "id": "6fd60258-b88d-42bc-adc8-7d760c50cb58",
   "metadata": {
    "execution": {
     "iopub.execute_input": "2024-03-05T16:43:40.208577Z",
     "iopub.status.busy": "2024-03-05T16:43:40.205911Z",
     "iopub.status.idle": "2024-03-05T16:43:44.914370Z",
     "shell.execute_reply": "2024-03-05T16:43:44.901837Z",
     "shell.execute_reply.started": "2024-03-05T16:43:40.208562Z"
    }
   },
   "outputs": [],
   "source": [
    "import numpy as np\n",
    "import pandas as pd\n",
    "from tqdm.auto import tqdm\n",
    "import matplotlib.pyplot as plt\n",
    "import seaborn as sns\n",
    "from mlxtend.feature_selection import (\n",
    "    SequentialFeatureSelector,\n",
    ")\n",
    "from mlxtend.evaluate import feature_importance_permutation\n",
    "from mlxtend.plotting import plot_sequential_feature_selection as plot_sfs\n",
    "from sklearn.utils.estimator_checks import check_estimator\n",
    "from sklearn.ensemble import RandomForestClassifier\n",
    "from sklearn.model_selection import cross_val_predict, train_test_split\n",
    "from sklearn.metrics import accuracy_score, f1_score, matthews_corrcoef\n",
    "import matplotlib.ticker as ticker\n",
    "import os\n",
    "\n",
    "os.chdir(\"../../\")\n",
    "from pathlib import Path\n",
    "import json\n",
    "\n",
    "import sys\n",
    "\n",
    "sys.path.append(\"scripts\")\n",
    "\n",
    "import utils\n",
    "import distclassipy as dcpy\n",
    "\n",
    "cd = dcpy.Distance()"
   ]
  },
  {
   "cell_type": "code",
   "execution_count": 2,
   "id": "6a6ba512-bafa-481b-8bb5-5e6971dd8f2a",
   "metadata": {
    "execution": {
     "iopub.execute_input": "2024-03-05T16:43:44.927071Z",
     "iopub.status.busy": "2024-03-05T16:43:44.924409Z",
     "iopub.status.idle": "2024-03-05T16:43:44.935784Z",
     "shell.execute_reply": "2024-03-05T16:43:44.935173Z",
     "shell.execute_reply.started": "2024-03-05T16:43:44.927050Z"
    }
   },
   "outputs": [],
   "source": [
    "with open(\"settings.txt\") as f:\n",
    "    settings_dict = json.load(f)\n",
    "np.random.seed(settings_dict[\"seed_choice\"])\n",
    "\n",
    "classification_letter = \"c\"\n",
    "classification_problem = settings_dict[\"classification_problem\"][classification_letter]\n",
    "classes_to_keep = settings_dict[\"classes_to_keep\"][classification_letter]\n",
    "results_subfolder = f\"{classification_letter}. {classification_problem}\"\n",
    "sns_dict = settings_dict[\"sns_dict\"]\n",
    "\n",
    "sns.set_theme(**sns_dict)"
   ]
  },
  {
   "cell_type": "code",
   "execution_count": 3,
   "id": "65a31dae-a482-479c-bcdf-1ca4d95badfc",
   "metadata": {
    "execution": {
     "iopub.execute_input": "2024-03-05T16:43:44.938220Z",
     "iopub.status.busy": "2024-03-05T16:43:44.937709Z",
     "iopub.status.idle": "2024-03-05T16:43:45.295502Z",
     "shell.execute_reply": "2024-03-05T16:43:45.294098Z",
     "shell.execute_reply.started": "2024-03-05T16:43:44.938200Z"
    }
   },
   "outputs": [],
   "source": [
    "# Load Data\n",
    "X_df_FULL = pd.read_csv(\"data/X_df.csv\", index_col=0)\n",
    "y_df_FULL = pd.read_csv(\"data/y_df.csv\", index_col=0)"
   ]
  },
  {
   "cell_type": "code",
   "execution_count": 4,
   "id": "71011c80-68da-400a-bbad-f610706a972f",
   "metadata": {
    "execution": {
     "iopub.execute_input": "2024-03-05T16:43:45.301797Z",
     "iopub.status.busy": "2024-03-05T16:43:45.298120Z",
     "iopub.status.idle": "2024-03-05T16:43:45.312378Z",
     "shell.execute_reply": "2024-03-05T16:43:45.308535Z",
     "shell.execute_reply.started": "2024-03-05T16:43:45.301782Z"
    }
   },
   "outputs": [
    {
     "name": "stdout",
     "output_type": "stream",
     "text": [
      "31\n"
     ]
    }
   ],
   "source": [
    "# Remove features to be dropped from previous notebook\n",
    "with open(os.path.join(\"results\", results_subfolder, \"drop_features.txt\")) as f:\n",
    "    bad_features = json.load(f)  # manually selected\n",
    "\n",
    "X_df_FULL = X_df_FULL.drop(bad_features, axis=1)\n",
    "\n",
    "print(X_df_FULL.shape[1])"
   ]
  },
  {
   "cell_type": "code",
   "execution_count": 5,
   "id": "fa5d12e6-d9a6-49fc-824e-99211c3476e8",
   "metadata": {
    "execution": {
     "iopub.execute_input": "2024-03-05T16:43:45.315827Z",
     "iopub.status.busy": "2024-03-05T16:43:45.314672Z",
     "iopub.status.idle": "2024-03-05T16:43:45.323797Z",
     "shell.execute_reply": "2024-03-05T16:43:45.322988Z",
     "shell.execute_reply.started": "2024-03-05T16:43:45.315780Z"
    }
   },
   "outputs": [],
   "source": [
    "# Keep only current classes\n",
    "cl_keep_str = \"_\".join(classes_to_keep)\n",
    "\n",
    "y_df = y_df_FULL[y_df_FULL[\"class\"].isin(classes_to_keep)]\n",
    "X_df = X_df_FULL.loc[y_df.index]\n",
    "X = X_df.to_numpy()\n",
    "y = y_df.to_numpy().ravel()"
   ]
  },
  {
   "cell_type": "code",
   "execution_count": 6,
   "id": "8babf33e-37f4-4b23-b949-cf8b2bb7bd69",
   "metadata": {
    "execution": {
     "iopub.execute_input": "2024-03-05T16:43:45.352731Z",
     "iopub.status.busy": "2024-03-05T16:43:45.331167Z",
     "iopub.status.idle": "2024-03-05T16:43:45.361019Z",
     "shell.execute_reply": "2024-03-05T16:43:45.359996Z",
     "shell.execute_reply.started": "2024-03-05T16:43:45.352707Z"
    }
   },
   "outputs": [],
   "source": [
    "locpath = os.path.join(\"results\", results_subfolder, \"random forest\")\n",
    "Path(locpath).mkdir(parents=True, exist_ok=True)"
   ]
  },
  {
   "cell_type": "code",
   "execution_count": 7,
   "id": "5b0b362d-dcf8-491e-8265-cd3722776f32",
   "metadata": {
    "execution": {
     "iopub.execute_input": "2024-03-05T16:43:45.366875Z",
     "iopub.status.busy": "2024-03-05T16:43:45.366102Z",
     "iopub.status.idle": "2024-03-05T16:43:45.746701Z",
     "shell.execute_reply": "2024-03-05T16:43:45.745419Z",
     "shell.execute_reply.started": "2024-03-05T16:43:45.366836Z"
    }
   },
   "outputs": [
    {
     "name": "stdout",
     "output_type": "stream",
     "text": [
      "0.9438127090301003\n",
      "0.9104477611940298\n"
     ]
    }
   ],
   "source": [
    "# Make sure we're not over fitting\n",
    "\n",
    "from sklearn.model_selection import train_test_split\n",
    "\n",
    "X_train, X_test, y_train, y_test = train_test_split(\n",
    "    X, y, test_size=0.33, stratify=y, random_state=settings_dict[\"seed_choice\"]\n",
    ")\n",
    "\n",
    "rfc = RandomForestClassifier(\n",
    "    random_state=settings_dict[\"seed_choice\"], max_depth=3, n_jobs=-1\n",
    ")\n",
    "# Important to make sure it's not overfitting.\n",
    "rfc.fit(X_train, y_train)\n",
    "print(rfc.score(X_train, y_train))\n",
    "print(rfc.score(X_test, y_test))"
   ]
  },
  {
   "cell_type": "code",
   "execution_count": 8,
   "id": "ba68dd9a-38bf-4ac7-9dbf-6a7ddd899ae0",
   "metadata": {
    "execution": {
     "iopub.execute_input": "2024-03-05T16:43:45.749312Z",
     "iopub.status.busy": "2024-03-05T16:43:45.748531Z",
     "iopub.status.idle": "2024-03-05T16:43:49.238181Z",
     "shell.execute_reply": "2024-03-05T16:43:49.236827Z",
     "shell.execute_reply.started": "2024-03-05T16:43:45.749277Z"
    }
   },
   "outputs": [],
   "source": [
    "y_pred = cross_val_predict(rfc, X, y, cv=5, n_jobs=-1)"
   ]
  },
  {
   "cell_type": "code",
   "execution_count": 9,
   "id": "0b32573a-f843-4de7-a75a-c28ab2fbbe31",
   "metadata": {
    "execution": {
     "iopub.execute_input": "2024-03-05T16:43:49.239490Z",
     "iopub.status.busy": "2024-03-05T16:43:49.239335Z",
     "iopub.status.idle": "2024-03-05T16:43:49.608879Z",
     "shell.execute_reply": "2024-03-05T16:43:49.607814Z",
     "shell.execute_reply.started": "2024-03-05T16:43:49.239476Z"
    }
   },
   "outputs": [
    {
     "name": "stdout",
     "output_type": "stream",
     "text": [
      "F1 = 91.96 %\n",
      "Accuracy = 91.98 %\n",
      "Matthew's Coefficient = 89.33 %\n"
     ]
    },
    {
     "data": {
      "image/png": "[encoded data removed]",
      "text/plain": [
       "<Figure size 640x480 with 1 Axes>"
      ]
     },
     "metadata": {},
     "output_type": "display_data"
    }
   ],
   "source": [
    "acc_train = accuracy_score(y, y_pred)\n",
    "f1score_train = f1_score(y, y_pred, average=\"macro\")\n",
    "matthew_coef_train = matthews_corrcoef(y, y_pred)\n",
    "print(\n",
    "    f\"F1 = {f1score_train*100:.2f} %\\nAccuracy = {acc_train*100:.2f} %\\nMatthew's Coefficient = {matthew_coef_train*100:.2f} %\"\n",
    ")\n",
    "\n",
    "ax = utils.plot_cm(y_true=y, y_pred=y_pred)\n",
    "\n",
    "plt.title(\"Random Forest\")\n",
    "# plt.savefig(os.path.join(locpath, \"confusion_matrix.pdf\"), bbox_inches=\"tight\")\n",
    "plt.show()"
   ]
  },
  {
   "cell_type": "code",
   "execution_count": 10,
   "id": "46a29eb3-a9d5-46b6-ae0e-ef7d7ff33dd4",
   "metadata": {
    "execution": {
     "iopub.execute_input": "2024-03-05T16:43:49.611295Z",
     "iopub.status.busy": "2024-03-05T16:43:49.610393Z",
     "iopub.status.idle": "2024-03-05T16:43:49.618055Z",
     "shell.execute_reply": "2024-03-05T16:43:49.617619Z",
     "shell.execute_reply.started": "2024-03-05T16:43:49.611279Z"
    }
   },
   "outputs": [
    {
     "data": {
      "text/plain": [
       "{'DSCT': 253, 'RR': 494, 'CEP': 24, 'RRc': 210}"
      ]
     },
     "execution_count": 10,
     "metadata": {},
     "output_type": "execute_result"
    }
   ],
   "source": [
    "table1 = {\"DSCT\": 16709, \"RR\": 32518, \"CEP\": 1610, \"RRc\": 13875}\n",
    "total = sum(table1.values())\n",
    "table1_ratio = {key: value / total for key, value in table1.items()}\n",
    "max_ratio = max(table1_ratio.values())\n",
    "sample_sizes = {\n",
    "    key: int(494 * value / max_ratio) for key, value in table1_ratio.items()\n",
    "}\n",
    "sample_sizes"
   ]
  },
  {
   "cell_type": "code",
   "execution_count": 11,
   "id": "2ea4dd4e-38ff-4137-bb1e-31033e934f43",
   "metadata": {
    "execution": {
     "iopub.execute_input": "2024-03-05T16:43:49.621559Z",
     "iopub.status.busy": "2024-03-05T16:43:49.620288Z",
     "iopub.status.idle": "2024-03-05T16:43:49.682057Z",
     "shell.execute_reply": "2024-03-05T16:43:49.681210Z",
     "shell.execute_reply.started": "2024-03-05T16:43:49.621542Z"
    }
   },
   "outputs": [],
   "source": [
    "HIDDENX_df = pd.read_csv(\"data/HIDDENX_df_multiclass.csv\", index_col=0)\n",
    "HIDDENX_df = HIDDENX_df.loc[:, X_df.columns]\n",
    "HIDDENX_df = HIDDENX_df.dropna()"
   ]
  },
  {
   "cell_type": "code",
   "execution_count": 12,
   "id": "60f0345e-2e5e-479a-a047-0549d60faded",
   "metadata": {
    "execution": {
     "iopub.execute_input": "2024-03-05T16:43:49.682694Z",
     "iopub.status.busy": "2024-03-05T16:43:49.682595Z",
     "iopub.status.idle": "2024-03-05T16:43:49.691267Z",
     "shell.execute_reply": "2024-03-05T16:43:49.690612Z",
     "shell.execute_reply.started": "2024-03-05T16:43:49.682685Z"
    }
   },
   "outputs": [],
   "source": [
    "HIDDENy_df = pd.read_csv(\"data/HIDDENy_df_multiclass.csv\", index_col=0)\n",
    "HIDDENy_df = HIDDENy_df.loc[HIDDENX_df.index]\n",
    "\n",
    "\n",
    "# RESAMPLE TO BE OF RATIO OF REAL WORLD\n",
    "HIDDENy_df_resampled = []\n",
    "for cl, subdf in HIDDENy_df.groupby(\"class\"):\n",
    "    HIDDENy_df_resampled.append(\n",
    "        subdf.sample(n=sample_sizes[cl], random_state=settings_dict[\"seed_choice\"])\n",
    "    )\n",
    "\n",
    "HIDDENy_df = pd.concat(HIDDENy_df_resampled).sample(\n",
    "    frac=1, random_state=settings_dict[\"seed_choice\"]\n",
    ")\n",
    "HIDDENX_df = HIDDENX_df.loc[HIDDENy_df.index]\n",
    "HIDDENy_df = HIDDENy_df.loc[HIDDENX_df.index]"
   ]
  },
  {
   "cell_type": "code",
   "execution_count": 13,
   "id": "25487aaf-4dc1-4bb6-91ae-1da25993b6e2",
   "metadata": {
    "execution": {
     "iopub.execute_input": "2024-03-05T16:43:49.693284Z",
     "iopub.status.busy": "2024-03-05T16:43:49.692518Z",
     "iopub.status.idle": "2024-03-05T16:43:49.697583Z",
     "shell.execute_reply": "2024-03-05T16:43:49.695983Z",
     "shell.execute_reply.started": "2024-03-05T16:43:49.693260Z"
    }
   },
   "outputs": [],
   "source": [
    "HIDDENX = HIDDENX_df.to_numpy()\n",
    "HIDDENy = HIDDENy_df.to_numpy().ravel()"
   ]
  },
  {
   "cell_type": "code",
   "execution_count": 14,
   "id": "3064c4d3-33c5-4ca2-8f3e-8a4aa3765eb1",
   "metadata": {
    "execution": {
     "iopub.execute_input": "2024-03-05T16:43:49.699363Z",
     "iopub.status.busy": "2024-03-05T16:43:49.699173Z",
     "iopub.status.idle": "2024-03-05T16:43:49.730315Z",
     "shell.execute_reply": "2024-03-05T16:43:49.729548Z",
     "shell.execute_reply.started": "2024-03-05T16:43:49.699337Z"
    }
   },
   "outputs": [],
   "source": [
    "rfc_pred = rfc.predict(HIDDENX)"
   ]
  },
  {
   "cell_type": "code",
   "execution_count": 16,
   "id": "a0172698-16ae-4a6c-8d6f-e55b745ccfcf",
   "metadata": {
    "execution": {
     "iopub.execute_input": "2024-03-05T16:51:24.111002Z",
     "iopub.status.busy": "2024-03-05T16:51:24.109720Z",
     "iopub.status.idle": "2024-03-05T16:51:24.375083Z",
     "shell.execute_reply": "2024-03-05T16:51:24.374551Z",
     "shell.execute_reply.started": "2024-03-05T16:51:24.110932Z"
    }
   },
   "outputs": [
    {
     "name": "stdout",
     "output_type": "stream",
     "text": [
      "Random Forest\n",
      "\tExpected Score from training:\n",
      "\t\tF1 ≈ 91.96 %\n",
      "\tActual score on hidden set:\n",
      "\t\tF1 = 76.14 %\n"
     ]
    },
    {
     "data": {
      "image/png": "[encoded data removed]",
      "text/plain": [
       "<Figure size 640x480 with 1 Axes>"
      ]
     },
     "metadata": {},
     "output_type": "display_data"
    }
   ],
   "source": [
    "print(\"Random Forest\")\n",
    "acc = accuracy_score(y_true=HIDDENy, y_pred=rfc_pred)\n",
    "f1score = f1_score(y_true=HIDDENy, y_pred=rfc_pred, average=\"macro\")\n",
    "matthew_coef = matthews_corrcoef(y_true=HIDDENy, y_pred=rfc_pred)\n",
    "\n",
    "print(\"\\tExpected Score from training:\")\n",
    "print(f\"\\t\\tF1 ≈ {100*f1score_train:.2f} %\")\n",
    "\n",
    "print(\"\\tActual score on hidden set:\")\n",
    "# print(f\"\\tAcc = {100*acc:.2f} %\")\n",
    "print(f\"\\t\\tF1 = {100*f1score:.2f} %\")\n",
    "\n",
    "ax = utils.plot_cm(y_true=HIDDENy, y_pred=rfc_pred)\n",
    "plt.title(f\"Random forest (hidden set)\")\n",
    "plt.savefig(os.path.join(locpath, \"hidden_cm.pdf\"), bbox_inches=\"tight\")\n",
    "# plt.savefig(f\"hidden_cm/{metric_str}.pdf\",bbox_inches = 'tight')\n",
    "plt.show()"
   ]
  },
  {
   "cell_type": "code",
   "execution_count": 17,
   "id": "aab49d52-4a43-46ef-a011-992225fc215f",
   "metadata": {
    "execution": {
     "iopub.execute_input": "2024-03-05T16:51:26.736777Z",
     "iopub.status.busy": "2024-03-05T16:51:26.735656Z",
     "iopub.status.idle": "2024-03-05T16:51:26.758553Z",
     "shell.execute_reply": "2024-03-05T16:51:26.757863Z",
     "shell.execute_reply.started": "2024-03-05T16:51:26.736716Z"
    }
   },
   "outputs": [
    {
     "data": {
      "text/plain": [
       "class\n",
       "RR       494\n",
       "DSCT     253\n",
       "RRc      210\n",
       "CEP       24\n",
       "Name: count, dtype: int64"
      ]
     },
     "execution_count": 17,
     "metadata": {},
     "output_type": "execute_result"
    }
   ],
   "source": [
    "HIDDENy_df.value_counts()"
   ]
  },
  {
   "cell_type": "code",
   "execution_count": 18,
   "id": "4ca72116-6e98-449f-91ba-4e2441863ccd",
   "metadata": {
    "execution": {
     "iopub.execute_input": "2024-03-05T16:51:27.015649Z",
     "iopub.status.busy": "2024-03-05T16:51:27.015014Z",
     "iopub.status.idle": "2024-03-05T16:51:27.034458Z",
     "shell.execute_reply": "2024-03-05T16:51:27.033762Z",
     "shell.execute_reply.started": "2024-03-05T16:51:27.015623Z"
    }
   },
   "outputs": [
    {
     "data": {
      "text/html": [
       "<div>\n",
       "<style scoped>\n",
       "    .dataframe tbody tr th:only-of-type {\n",
       "        vertical-align: middle;\n",
       "    }\n",
       "\n",
       "    .dataframe tbody tr th {\n",
       "        vertical-align: top;\n",
       "    }\n",
       "\n",
       "    .dataframe thead th {\n",
       "        text-align: right;\n",
       "    }\n",
       "</style>\n",
       "<table border=\"1\" class=\"dataframe\">\n",
       "  <thead>\n",
       "    <tr style=\"text-align: right;\">\n",
       "      <th></th>\n",
       "      <th>class</th>\n",
       "    </tr>\n",
       "    <tr>\n",
       "      <th>oid</th>\n",
       "      <th></th>\n",
       "    </tr>\n",
       "  </thead>\n",
       "  <tbody>\n",
       "    <tr>\n",
       "      <th>519864</th>\n",
       "      <td>DSCT</td>\n",
       "    </tr>\n",
       "    <tr>\n",
       "      <th>63902</th>\n",
       "      <td>DSCT</td>\n",
       "    </tr>\n",
       "    <tr>\n",
       "      <th>190237</th>\n",
       "      <td>RRc</td>\n",
       "    </tr>\n",
       "    <tr>\n",
       "      <th>278302</th>\n",
       "      <td>RR</td>\n",
       "    </tr>\n",
       "    <tr>\n",
       "      <th>331707</th>\n",
       "      <td>RRc</td>\n",
       "    </tr>\n",
       "    <tr>\n",
       "      <th>...</th>\n",
       "      <td>...</td>\n",
       "    </tr>\n",
       "    <tr>\n",
       "      <th>574583</th>\n",
       "      <td>RR</td>\n",
       "    </tr>\n",
       "    <tr>\n",
       "      <th>394901</th>\n",
       "      <td>DSCT</td>\n",
       "    </tr>\n",
       "    <tr>\n",
       "      <th>196797</th>\n",
       "      <td>RR</td>\n",
       "    </tr>\n",
       "    <tr>\n",
       "      <th>213739</th>\n",
       "      <td>RR</td>\n",
       "    </tr>\n",
       "    <tr>\n",
       "      <th>196682</th>\n",
       "      <td>RRc</td>\n",
       "    </tr>\n",
       "  </tbody>\n",
       "</table>\n",
       "<p>981 rows × 1 columns</p>\n",
       "</div>"
      ],
      "text/plain": [
       "       class\n",
       "oid         \n",
       "519864  DSCT\n",
       "63902   DSCT\n",
       "190237   RRc\n",
       "278302    RR\n",
       "331707   RRc\n",
       "...      ...\n",
       "574583    RR\n",
       "394901  DSCT\n",
       "196797    RR\n",
       "213739    RR\n",
       "196682   RRc\n",
       "\n",
       "[981 rows x 1 columns]"
      ]
     },
     "execution_count": 18,
     "metadata": {},
     "output_type": "execute_result"
    }
   ],
   "source": [
    "HIDDENy_df"
   ]
  }
 ],
 "metadata": {
  "kernelspec": {
   "display_name": "Python 3 (ipykernel)",
   "language": "python",
   "name": "python3"
  },
  "language_info": {
   "codemirror_mode": {
    "name": "ipython",
    "version": 3
   },
   "file_extension": ".py",
   "mimetype": "text/x-python",
   "name": "python",
   "nbconvert_exporter": "python",
   "pygments_lexer": "ipython3",
   "version": "3.12.2"
  }
 },
 "nbformat": 4,
 "nbformat_minor": 5
}
