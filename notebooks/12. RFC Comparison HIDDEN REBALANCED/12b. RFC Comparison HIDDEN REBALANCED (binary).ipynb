{
 "cells": [
  {
   "cell_type": "code",
   "execution_count": 1,
   "id": "6fd60258-b88d-42bc-adc8-7d760c50cb58",
   "metadata": {
    "execution": {
     "iopub.execute_input": "2024-03-05T16:43:37.742487Z",
     "iopub.status.busy": "2024-03-05T16:43:37.741980Z",
     "iopub.status.idle": "2024-03-05T16:43:42.515051Z",
     "shell.execute_reply": "2024-03-05T16:43:42.481312Z",
     "shell.execute_reply.started": "2024-03-05T16:43:37.742471Z"
    }
   },
   "outputs": [],
   "source": [
    "import numpy as np\n",
    "import pandas as pd\n",
    "from tqdm.auto import tqdm\n",
    "import matplotlib.pyplot as plt\n",
    "import seaborn as sns\n",
    "from mlxtend.feature_selection import (\n",
    "    SequentialFeatureSelector,\n",
    ")\n",
    "from mlxtend.evaluate import feature_importance_permutation\n",
    "from mlxtend.plotting import plot_sequential_feature_selection as plot_sfs\n",
    "from sklearn.utils.estimator_checks import check_estimator\n",
    "from sklearn.ensemble import RandomForestClassifier\n",
    "from sklearn.model_selection import cross_val_predict, train_test_split\n",
    "from sklearn.metrics import accuracy_score, f1_score, matthews_corrcoef\n",
    "import matplotlib.ticker as ticker\n",
    "import os\n",
    "\n",
    "os.chdir(\"../../\")\n",
    "from pathlib import Path\n",
    "import json\n",
    "\n",
    "import sys\n",
    "\n",
    "sys.path.append(\"scripts\")\n",
    "\n",
    "import utils\n",
    "import distclassipy as dcpy\n",
    "\n",
    "cd = dcpy.Distance()"
   ]
  },
  {
   "cell_type": "code",
   "execution_count": 2,
   "id": "6a6ba512-bafa-481b-8bb5-5e6971dd8f2a",
   "metadata": {
    "execution": {
     "iopub.execute_input": "2024-03-05T16:43:42.536811Z",
     "iopub.status.busy": "2024-03-05T16:43:42.521928Z",
     "iopub.status.idle": "2024-03-05T16:43:42.583501Z",
     "shell.execute_reply": "2024-03-05T16:43:42.565475Z",
     "shell.execute_reply.started": "2024-03-05T16:43:42.535303Z"
    }
   },
   "outputs": [],
   "source": [
    "with open(\"settings.txt\") as f:\n",
    "    settings_dict = json.load(f)\n",
    "np.random.seed(settings_dict[\"seed_choice\"])\n",
    "\n",
    "classification_letter = \"b\"\n",
    "classification_problem = settings_dict[\"classification_problem\"][classification_letter]\n",
    "classes_to_keep = settings_dict[\"classes_to_keep\"][classification_letter]\n",
    "results_subfolder = f\"{classification_letter}. {classification_problem}\"\n",
    "sns_dict = settings_dict[\"sns_dict\"]\n",
    "\n",
    "sns.set_theme(**sns_dict)"
   ]
  },
  {
   "cell_type": "code",
   "execution_count": 3,
   "id": "65a31dae-a482-479c-bcdf-1ca4d95badfc",
   "metadata": {
    "execution": {
     "iopub.execute_input": "2024-03-05T16:43:42.646775Z",
     "iopub.status.busy": "2024-03-05T16:43:42.640450Z",
     "iopub.status.idle": "2024-03-05T16:43:42.892246Z",
     "shell.execute_reply": "2024-03-05T16:43:42.881295Z",
     "shell.execute_reply.started": "2024-03-05T16:43:42.646755Z"
    }
   },
   "outputs": [],
   "source": [
    "# Load Data\n",
    "X_df_FULL = pd.read_csv(\"data/X_df.csv\", index_col=0)\n",
    "y_df_FULL = pd.read_csv(\"data/y_df.csv\", index_col=0)"
   ]
  },
  {
   "cell_type": "code",
   "execution_count": 4,
   "id": "71011c80-68da-400a-bbad-f610706a972f",
   "metadata": {
    "execution": {
     "iopub.execute_input": "2024-03-05T16:43:42.937001Z",
     "iopub.status.busy": "2024-03-05T16:43:42.936112Z",
     "iopub.status.idle": "2024-03-05T16:43:42.948609Z",
     "shell.execute_reply": "2024-03-05T16:43:42.943383Z",
     "shell.execute_reply.started": "2024-03-05T16:43:42.936983Z"
    }
   },
   "outputs": [
    {
     "name": "stdout",
     "output_type": "stream",
     "text": [
      "36\n"
     ]
    }
   ],
   "source": [
    "# Remove features to be dropped from previous notebook\n",
    "with open(os.path.join(\"results\", results_subfolder, \"drop_features.txt\")) as f:\n",
    "    bad_features = json.load(f)  # manually selected\n",
    "\n",
    "X_df_FULL = X_df_FULL.drop(bad_features, axis=1)\n",
    "\n",
    "print(X_df_FULL.shape[1])"
   ]
  },
  {
   "cell_type": "code",
   "execution_count": 5,
   "id": "fa5d12e6-d9a6-49fc-824e-99211c3476e8",
   "metadata": {
    "execution": {
     "iopub.execute_input": "2024-03-05T16:43:42.952813Z",
     "iopub.status.busy": "2024-03-05T16:43:42.952573Z",
     "iopub.status.idle": "2024-03-05T16:43:42.959145Z",
     "shell.execute_reply": "2024-03-05T16:43:42.958041Z",
     "shell.execute_reply.started": "2024-03-05T16:43:42.952795Z"
    }
   },
   "outputs": [],
   "source": [
    "# Keep only current classes\n",
    "cl_keep_str = \"_\".join(classes_to_keep)\n",
    "\n",
    "y_df = y_df_FULL[y_df_FULL[\"class\"].isin(classes_to_keep)]\n",
    "X_df = X_df_FULL.loc[y_df.index]\n",
    "X = X_df.to_numpy()\n",
    "y = y_df.to_numpy().ravel()"
   ]
  },
  {
   "cell_type": "code",
   "execution_count": 6,
   "id": "8babf33e-37f4-4b23-b949-cf8b2bb7bd69",
   "metadata": {
    "execution": {
     "iopub.execute_input": "2024-03-05T16:43:42.974424Z",
     "iopub.status.busy": "2024-03-05T16:43:42.972593Z",
     "iopub.status.idle": "2024-03-05T16:43:42.996861Z",
     "shell.execute_reply": "2024-03-05T16:43:42.989060Z",
     "shell.execute_reply.started": "2024-03-05T16:43:42.974409Z"
    }
   },
   "outputs": [],
   "source": [
    "locpath = os.path.join(\"results\", results_subfolder, \"random forest\")\n",
    "Path(locpath).mkdir(parents=True, exist_ok=True)"
   ]
  },
  {
   "cell_type": "code",
   "execution_count": 7,
   "id": "5b0b362d-dcf8-491e-8265-cd3722776f32",
   "metadata": {
    "execution": {
     "iopub.execute_input": "2024-03-05T16:43:43.003657Z",
     "iopub.status.busy": "2024-03-05T16:43:43.002327Z",
     "iopub.status.idle": "2024-03-05T16:43:43.244295Z",
     "shell.execute_reply": "2024-03-05T16:43:43.241668Z",
     "shell.execute_reply.started": "2024-03-05T16:43:43.003637Z"
    }
   },
   "outputs": [
    {
     "name": "stdout",
     "output_type": "stream",
     "text": [
      "0.7710843373493976\n",
      "0.7073170731707317\n"
     ]
    }
   ],
   "source": [
    "# Make sure we're not over fitting\n",
    "\n",
    "from sklearn.model_selection import train_test_split\n",
    "\n",
    "X_train, X_test, y_train, y_test = train_test_split(\n",
    "    X, y, test_size=0.33, stratify=y, random_state=settings_dict[\"seed_choice\"]\n",
    ")\n",
    "\n",
    "rfc = RandomForestClassifier(\n",
    "    random_state=settings_dict[\"seed_choice\"], max_depth=3, n_jobs=-1\n",
    ")\n",
    "# Important to make sure it's not overfitting.\n",
    "rfc.fit(X_train, y_train)\n",
    "print(rfc.score(X_train, y_train))\n",
    "print(rfc.score(X_test, y_test))"
   ]
  },
  {
   "cell_type": "code",
   "execution_count": 8,
   "id": "ba68dd9a-38bf-4ac7-9dbf-6a7ddd899ae0",
   "metadata": {
    "execution": {
     "iopub.execute_input": "2024-03-05T16:43:43.246671Z",
     "iopub.status.busy": "2024-03-05T16:43:43.246250Z",
     "iopub.status.idle": "2024-03-05T16:43:45.706258Z",
     "shell.execute_reply": "2024-03-05T16:43:45.704800Z",
     "shell.execute_reply.started": "2024-03-05T16:43:43.246639Z"
    }
   },
   "outputs": [],
   "source": [
    "y_pred = cross_val_predict(rfc, X, y, cv=5, n_jobs=-1)"
   ]
  },
  {
   "cell_type": "code",
   "execution_count": 9,
   "id": "0b32573a-f843-4de7-a75a-c28ab2fbbe31",
   "metadata": {
    "execution": {
     "iopub.execute_input": "2024-03-05T16:43:45.708518Z",
     "iopub.status.busy": "2024-03-05T16:43:45.708213Z",
     "iopub.status.idle": "2024-03-05T16:43:46.579140Z",
     "shell.execute_reply": "2024-03-05T16:43:46.535229Z",
     "shell.execute_reply.started": "2024-03-05T16:43:45.708487Z"
    }
   },
   "outputs": [
    {
     "name": "stdout",
     "output_type": "stream",
     "text": [
      "F1 = 69.78 %\n",
      "Accuracy = 69.98 %\n",
      "Matthew's Coefficient = 40.51 %\n"
     ]
    },
    {
     "data": {
      "image/png": "[encoded data removed]",
      "text/plain": [
       "<Figure size 640x480 with 1 Axes>"
      ]
     },
     "metadata": {},
     "output_type": "display_data"
    }
   ],
   "source": [
    "acc_train = accuracy_score(y, y_pred)\n",
    "f1score_train = f1_score(y, y_pred, average=\"macro\")\n",
    "matthew_coef_train = matthews_corrcoef(y, y_pred)\n",
    "print(\n",
    "    f\"F1 = {f1score_train*100:.2f} %\\nAccuracy = {acc_train*100:.2f} %\\nMatthew's Coefficient = {matthew_coef_train*100:.2f} %\"\n",
    ")\n",
    "\n",
    "ax = utils.plot_cm(y_true=y, y_pred=y_pred)\n",
    "\n",
    "plt.title(\"Random Forest\")\n",
    "# plt.savefig(os.path.join(locpath, \"confusion_matrix.pdf\"), bbox_inches=\"tight\")\n",
    "plt.show()"
   ]
  },
  {
   "cell_type": "code",
   "execution_count": 10,
   "id": "46a29eb3-a9d5-46b6-ae0e-ef7d7ff33dd4",
   "metadata": {
    "execution": {
     "iopub.execute_input": "2024-03-05T16:43:46.654498Z",
     "iopub.status.busy": "2024-03-05T16:43:46.651041Z",
     "iopub.status.idle": "2024-03-05T16:43:46.674984Z",
     "shell.execute_reply": "2024-03-05T16:43:46.674252Z",
     "shell.execute_reply.started": "2024-03-05T16:43:46.654480Z"
    }
   },
   "outputs": [
    {
     "data": {
      "text/plain": [
       "{'RSCVN': 480, 'BYDra': 500}"
      ]
     },
     "execution_count": 10,
     "metadata": {},
     "output_type": "execute_result"
    }
   ],
   "source": [
    "table1 = {\"RSCVN\": 81393, \"BYDra\": 84697}\n",
    "total = sum(table1.values())\n",
    "table1_ratio = {key: value / total for key, value in table1.items()}\n",
    "max_ratio = max(table1_ratio.values())\n",
    "sample_sizes = {\n",
    "    key: int(500 * value / max_ratio) for key, value in table1_ratio.items()\n",
    "}\n",
    "sample_sizes"
   ]
  },
  {
   "cell_type": "code",
   "execution_count": 11,
   "id": "2ea4dd4e-38ff-4137-bb1e-31033e934f43",
   "metadata": {
    "execution": {
     "iopub.execute_input": "2024-03-05T16:43:46.677234Z",
     "iopub.status.busy": "2024-03-05T16:43:46.676198Z",
     "iopub.status.idle": "2024-03-05T16:43:46.777202Z",
     "shell.execute_reply": "2024-03-05T16:43:46.768073Z",
     "shell.execute_reply.started": "2024-03-05T16:43:46.677194Z"
    }
   },
   "outputs": [],
   "source": [
    "HIDDENX_df = pd.read_csv(\"data/HIDDENX_df_multiclass.csv\", index_col=0)\n",
    "HIDDENX_df = HIDDENX_df.loc[:, X_df.columns]\n",
    "HIDDENX_df = HIDDENX_df.dropna()"
   ]
  },
  {
   "cell_type": "code",
   "execution_count": 12,
   "id": "60f0345e-2e5e-479a-a047-0549d60faded",
   "metadata": {
    "execution": {
     "iopub.execute_input": "2024-03-05T16:43:46.782369Z",
     "iopub.status.busy": "2024-03-05T16:43:46.781398Z",
     "iopub.status.idle": "2024-03-05T16:43:46.860044Z",
     "shell.execute_reply": "2024-03-05T16:43:46.858729Z",
     "shell.execute_reply.started": "2024-03-05T16:43:46.782343Z"
    }
   },
   "outputs": [],
   "source": [
    "HIDDENX_df = pd.read_csv(\"data/HIDDENX_df_binary.csv\", index_col=0)\n",
    "HIDDENX_df = HIDDENX_df.loc[:, X_df.columns]\n",
    "HIDDENX_df = HIDDENX_df.dropna()\n",
    "\n",
    "\n",
    "HIDDENy_df = pd.read_csv(\"data/HIDDENy_df_binary.csv\", index_col=0)\n",
    "HIDDENy_df = HIDDENy_df.loc[HIDDENX_df.index]\n",
    "\n",
    "\n",
    "# RESAMPLE TO BE OF RATIO OF REAL WORLD\n",
    "HIDDENy_df_resampled = []\n",
    "for cl, subdf in HIDDENy_df.groupby(\"class\"):\n",
    "    HIDDENy_df_resampled.append(\n",
    "        subdf.sample(n=sample_sizes[cl], random_state=settings_dict[\"seed_choice\"])\n",
    "    )\n",
    "\n",
    "HIDDENy_df = pd.concat(HIDDENy_df_resampled).sample(\n",
    "    frac=1, random_state=settings_dict[\"seed_choice\"]\n",
    ")\n",
    "HIDDENX_df = HIDDENX_df.loc[HIDDENy_df.index]\n",
    "HIDDENy_df = HIDDENy_df.loc[HIDDENX_df.index]"
   ]
  },
  {
   "cell_type": "code",
   "execution_count": 13,
   "id": "25487aaf-4dc1-4bb6-91ae-1da25993b6e2",
   "metadata": {
    "execution": {
     "iopub.execute_input": "2024-03-05T16:43:46.862134Z",
     "iopub.status.busy": "2024-03-05T16:43:46.861078Z",
     "iopub.status.idle": "2024-03-05T16:43:46.886900Z",
     "shell.execute_reply": "2024-03-05T16:43:46.882277Z",
     "shell.execute_reply.started": "2024-03-05T16:43:46.862107Z"
    }
   },
   "outputs": [],
   "source": [
    "HIDDENX = HIDDENX_df.to_numpy()\n",
    "HIDDENy = HIDDENy_df.to_numpy().ravel()"
   ]
  },
  {
   "cell_type": "code",
   "execution_count": 14,
   "id": "3064c4d3-33c5-4ca2-8f3e-8a4aa3765eb1",
   "metadata": {
    "execution": {
     "iopub.execute_input": "2024-03-05T16:43:46.888180Z",
     "iopub.status.busy": "2024-03-05T16:43:46.887927Z",
     "iopub.status.idle": "2024-03-05T16:43:47.049564Z",
     "shell.execute_reply": "2024-03-05T16:43:47.016124Z",
     "shell.execute_reply.started": "2024-03-05T16:43:46.888157Z"
    }
   },
   "outputs": [],
   "source": [
    "rfc_pred = rfc.predict(HIDDENX)"
   ]
  },
  {
   "cell_type": "code",
   "execution_count": 15,
   "id": "a0172698-16ae-4a6c-8d6f-e55b745ccfcf",
   "metadata": {
    "execution": {
     "iopub.execute_input": "2024-03-05T16:43:47.109644Z",
     "iopub.status.busy": "2024-03-05T16:43:47.100998Z",
     "iopub.status.idle": "2024-03-05T16:43:48.254909Z",
     "shell.execute_reply": "2024-03-05T16:43:48.195641Z",
     "shell.execute_reply.started": "2024-03-05T16:43:47.109625Z"
    }
   },
   "outputs": [
    {
     "name": "stdout",
     "output_type": "stream",
     "text": [
      "Random Forest\n",
      "\tExpected Score from training:\n",
      "\t\tF1 ≈ 69.78 %\n",
      "\tActual score on hidden set:\n",
      "\t\tF1 = 69.84 %\n"
     ]
    },
    {
     "data": {
      "image/png": "[encoded data removed]",
      "text/plain": [
       "<Figure size 640x480 with 1 Axes>"
      ]
     },
     "metadata": {},
     "output_type": "display_data"
    }
   ],
   "source": [
    "print(\"Random Forest\")\n",
    "acc = accuracy_score(y_true=HIDDENy, y_pred=rfc_pred)\n",
    "f1score = f1_score(y_true=HIDDENy, y_pred=rfc_pred, average=\"macro\")\n",
    "matthew_coef = matthews_corrcoef(y_true=HIDDENy, y_pred=rfc_pred)\n",
    "\n",
    "print(\"\\tExpected Score from training:\")\n",
    "print(f\"\\t\\tF1 ≈ {100*f1score_train:.2f} %\")\n",
    "\n",
    "print(\"\\tActual score on hidden set:\")\n",
    "# print(f\"\\tAcc = {100*acc:.2f} %\")\n",
    "print(f\"\\t\\tF1 = {100*f1score:.2f} %\")\n",
    "\n",
    "ax = utils.plot_cm(y_true=HIDDENy, y_pred=rfc_pred)\n",
    "plt.title(f\"Random forest (hidden set)\")\n",
    "plt.savefig(os.path.join(locpath, \"hidden_cm.pdf\"), bbox_inches=\"tight\")\n",
    "# plt.savefig(f\"hidden_cm/{metric_str}.pdf\",bbox_inches = 'tight')\n",
    "plt.show()"
   ]
  },
  {
   "cell_type": "code",
   "execution_count": 16,
   "id": "aab49d52-4a43-46ef-a011-992225fc215f",
   "metadata": {
    "execution": {
     "iopub.execute_input": "2024-03-05T16:43:48.261369Z",
     "iopub.status.busy": "2024-03-05T16:43:48.259900Z",
     "iopub.status.idle": "2024-03-05T16:43:48.308284Z",
     "shell.execute_reply": "2024-03-05T16:43:48.303121Z",
     "shell.execute_reply.started": "2024-03-05T16:43:48.261321Z"
    }
   },
   "outputs": [
    {
     "data": {
      "text/plain": [
       "class\n",
       "BYDra    500\n",
       "RSCVN    480\n",
       "Name: count, dtype: int64"
      ]
     },
     "execution_count": 16,
     "metadata": {},
     "output_type": "execute_result"
    }
   ],
   "source": [
    "HIDDENy_df.value_counts()"
   ]
  },
  {
   "cell_type": "code",
   "execution_count": null,
   "id": "a4e1de82-ac52-405c-9d00-0430896ea384",
   "metadata": {},
   "outputs": [],
   "source": []
  }
 ],
 "metadata": {
  "kernelspec": {
   "display_name": "Python 3 (ipykernel)",
   "language": "python",
   "name": "python3"
  },
  "language_info": {
   "codemirror_mode": {
    "name": "ipython",
    "version": 3
   },
   "file_extension": ".py",
   "mimetype": "text/x-python",
   "name": "python",
   "nbconvert_exporter": "python",
   "pygments_lexer": "ipython3",
   "version": "3.12.2"
  }
 },
 "nbformat": 4,
 "nbformat_minor": 5
}
